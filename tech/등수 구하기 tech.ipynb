{
 "cells": [
  {
   "cell_type": "code",
   "execution_count": 13,
   "id": "a3439470",
   "metadata": {},
   "outputs": [],
   "source": [
    "a = [('a',20), ('b',25),('c',10), ('d',32),('e',20)]"
   ]
  },
  {
   "cell_type": "code",
   "execution_count": 14,
   "id": "04d905ee",
   "metadata": {},
   "outputs": [
    {
     "data": {
      "text/plain": [
       "{'a': 20, 'b': 25, 'c': 10, 'd': 32, 'e': 20}"
      ]
     },
     "execution_count": 14,
     "metadata": {},
     "output_type": "execute_result"
    }
   ],
   "source": [
    "b = dict(a)\n",
    "b"
   ]
  },
  {
   "cell_type": "code",
   "execution_count": 15,
   "id": "22b06cab",
   "metadata": {},
   "outputs": [],
   "source": [
    "c = sorted(b.items(), key=lambda x:x[1], reverse=True)"
   ]
  },
  {
   "cell_type": "code",
   "execution_count": 16,
   "id": "d06b2364",
   "metadata": {},
   "outputs": [
    {
     "data": {
      "text/plain": [
       "[('d', 32), ('b', 25), ('a', 20), ('e', 20), ('c', 10)]"
      ]
     },
     "execution_count": 16,
     "metadata": {},
     "output_type": "execute_result"
    }
   ],
   "source": [
    "c"
   ]
  },
  {
   "cell_type": "code",
   "execution_count": 17,
   "id": "b88dda20",
   "metadata": {},
   "outputs": [],
   "source": [
    "d = c.copy()"
   ]
  },
  {
   "cell_type": "code",
   "execution_count": 18,
   "id": "17d8950f",
   "metadata": {},
   "outputs": [
    {
     "data": {
      "text/plain": [
       "[('d', 32), ('b', 25), ('a', 20), ('e', 20), ('c', 10)]"
      ]
     },
     "execution_count": 18,
     "metadata": {},
     "output_type": "execute_result"
    }
   ],
   "source": [
    "d"
   ]
  },
  {
   "cell_type": "code",
   "execution_count": 22,
   "id": "d9123281",
   "metadata": {},
   "outputs": [
    {
     "data": {
      "text/plain": [
       "[1, 2, 3, 3, 5]"
      ]
     },
     "execution_count": 22,
     "metadata": {},
     "output_type": "execute_result"
    }
   ],
   "source": [
    "# 기본적인 방법\n",
    "\n",
    "bnk = []\n",
    "result = []\n",
    "for key1, val1 in c :\n",
    "    bnk.append(key1)\n",
    "    cnt = 1\n",
    "    for key2, val2 in d:\n",
    "        if val1 < val2:\n",
    "            cnt += 1\n",
    "    result.append(cnt)\n",
    "\n",
    "result"
   ]
  },
  {
   "cell_type": "code",
   "execution_count": 23,
   "id": "9a00dace",
   "metadata": {},
   "outputs": [
    {
     "name": "stdout",
     "output_type": "stream",
     "text": [
      "1 d 32\n",
      "2 b 25\n",
      "3 a 20\n",
      "4 e 20\n",
      "5 c 10\n"
     ]
    }
   ],
   "source": [
    "for idx, i in enumerate(c):\n",
    "    print((idx+1), i[0], i[1])"
   ]
  },
  {
   "cell_type": "code",
   "execution_count": null,
   "id": "a33c3dfb",
   "metadata": {},
   "outputs": [],
   "source": []
  }
 ],
 "metadata": {
  "kernelspec": {
   "display_name": "Python 3",
   "language": "python",
   "name": "python3"
  },
  "language_info": {
   "codemirror_mode": {
    "name": "ipython",
    "version": 3
   },
   "file_extension": ".py",
   "mimetype": "text/x-python",
   "name": "python",
   "nbconvert_exporter": "python",
   "pygments_lexer": "ipython3",
   "version": "3.8.8"
  }
 },
 "nbformat": 4,
 "nbformat_minor": 5
}
