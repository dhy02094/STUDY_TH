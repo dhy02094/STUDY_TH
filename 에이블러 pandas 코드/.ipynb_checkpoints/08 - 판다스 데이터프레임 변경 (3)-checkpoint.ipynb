{
 "cells": [
  {
   "cell_type": "markdown",
   "metadata": {
    "id": "BFhIXgdYoYGp"
   },
   "source": [
    "# 08 - 판다스 데이터프레임 변경 (3)"
   ]
  },
  {
   "cell_type": "markdown",
   "metadata": {
    "id": "eRPNqQjA9RM8"
   },
   "source": [
    "## 7.데이터프레임 변경 (3)"
   ]
  },
  {
   "cell_type": "code",
   "execution_count": 1,
   "metadata": {
    "id": "b9NraxWDnYr1"
   },
   "outputs": [],
   "source": [
    "# 라이브러리 불러오기\n",
    "import pandas as pd"
   ]
  },
  {
   "cell_type": "markdown",
   "metadata": {
    "id": "TKXSGj6GW2sU"
   },
   "source": [
    "### 7.1. 데이터프레임 합치기(Concat)\n",
    "\n",
    "- **concat()** 함수를 사용해 두 데이터프레임을 가로 또는 세로로 합칠 수 있습니다.\n"
   ]
  },
  {
   "cell_type": "markdown",
   "metadata": {
    "id": "Ai1-9_qwNth_"
   },
   "source": [
    "#### 7.1.1.가로로 합치기\n",
    "\n",
    "- **axis=1** 옵션을 지정해 가로로 합칠 수 있습니다.\n",
    "- **행 인덱스 값을 기준으로** 합칩니다!"
   ]
  },
  {
   "cell_type": "markdown",
   "metadata": {
    "id": "E0SAH5cR9MSg"
   },
   "source": [
    "<img src='https://raw.githubusercontent.com/Jangrae/img/master/concat_ax1.png' width=500, align=\"left\"/>"
   ]
  },
  {
   "cell_type": "markdown",
   "metadata": {
    "id": "u6QfphTxVsxF"
   },
   "source": [
    "**1) 데이터 읽어오기**"
   ]
  },
  {
   "cell_type": "code",
   "execution_count": null,
   "metadata": {
    "id": "SOiVUXk_nlEl",
    "scrolled": false
   },
   "outputs": [],
   "source": [
    "# 서울 인구정보 읽어오기 #1\n",
    "path = 'https://bit.ly/PopH01File'\n",
    "pop01 = pd.read_csv(path, index_col='year')\n",
    "pop01.index.name = None\n",
    "\n",
    "# 확인\n",
    "print(pop01.head(10))"
   ]
  },
  {
   "cell_type": "code",
   "execution_count": null,
   "metadata": {
    "id": "9w2LWwOzVaAa",
    "scrolled": false
   },
   "outputs": [],
   "source": [
    "# 서울 인구정보 읽어오기 #2\n",
    "path = 'https://bit.ly/PopH02File'\n",
    "pop02 = pd.read_csv(path, index_col='year')\n",
    "pop02.index.name = None\n",
    "# 확인\n",
    "print(pop02.head(10))"
   ]
  },
  {
   "cell_type": "markdown",
   "metadata": {
    "id": "e2QtLRzgJSfv"
   },
   "source": [
    "**2) 데이터프레임 합치기**\n",
    "\n",
    "- 이제 **concat()** 함수를 사용해 두 데이터프레임을 합쳐봅니다.\n",
    "- 가로로 합치므로 **axis=1** 옵션을 지정합니다.\n",
    "- join='outer'는 기본 옵션값이므로 생략이 가능합니다."
   ]
  },
  {
   "cell_type": "code",
   "execution_count": null,
   "metadata": {
    "id": "e2JTK2AzJPvI",
    "scrolled": false
   },
   "outputs": [],
   "source": [
    "# 모든 헹 합치기\n",
    "pop = pd.concat([pop01, pop02], join='outer', axis=1)\n",
    "\n",
    "# 확인\n",
    "print(pop.head(10))"
   ]
  },
  {
   "cell_type": "markdown",
   "metadata": {
    "id": "xgfGAfFfJkYq"
   },
   "source": [
    "- pop02 데이터프레임에는 1981~1984년 데이터가 없어 합쳐진 결과에 결측치가 생깁니다.\n",
    "- join='inner' 옵션을 지정하면 매핑되지 못한 행은 제외됩니다."
   ]
  },
  {
   "cell_type": "code",
   "execution_count": null,
   "metadata": {
    "id": "QG_IsO1nI7lt"
   },
   "outputs": [],
   "source": [
    "# 모든 헹 합치기\n",
    "pop = pd.concat([pop01, pop02], join='inner', axis=1)\n",
    "\n",
    "# 확인\n",
    "print(pop.head(10))"
   ]
  },
  {
   "cell_type": "markdown",
   "metadata": {
    "id": "FALUn2QYJ6r_"
   },
   "source": [
    "#### 7.1.2.세로로 합치기\n",
    "\n",
    "\n",
    "- **axis=0** 옵션을 지정해 세로로 합칠 수 있습니다.(기본값)\n",
    "- **열 이름을 기준으로** 합칩니다!"
   ]
  },
  {
   "cell_type": "markdown",
   "metadata": {
    "id": "PSmjf_uLMWGw"
   },
   "source": [
    "<img src='https://raw.githubusercontent.com/Jangrae/img/master/concat_ax0.png' width=450, align=\"left\"/>"
   ]
  },
  {
   "cell_type": "markdown",
   "metadata": {
    "id": "c6OmWbzqJ6sA"
   },
   "source": [
    "**1) 데이터 읽어오기**\n"
   ]
  },
  {
   "cell_type": "code",
   "execution_count": null,
   "metadata": {
    "id": "z7r8xxi8J6sC",
    "scrolled": false
   },
   "outputs": [],
   "source": [
    "# 서울 인구정보 읽어오기 #1\n",
    "path = 'https://bit.ly/PopV01File'\n",
    "pop01 = pd.read_csv(path)\n",
    "\n",
    "# 확인\n",
    "print(pop01.head())"
   ]
  },
  {
   "cell_type": "code",
   "execution_count": null,
   "metadata": {
    "id": "zN7wOKMwJ6sS",
    "scrolled": false
   },
   "outputs": [],
   "source": [
    "# 서울 인구정보 읽어오기 #2\n",
    "path = 'https://bit.ly/PopV02File'\n",
    "pop02 = pd.read_csv(path)\n",
    "\n",
    "# 확인\n",
    "print(pop02.head(10))"
   ]
  },
  {
   "cell_type": "markdown",
   "metadata": {
    "id": "5EinAPQPJ6sT"
   },
   "source": [
    "**2) 데이터프레임 합치기**\n",
    "\n",
    "- 이제 **concat()** 함수를 사용해 두 데이터프레임을 합쳐봅니다.\n",
    "- 세로로 합치므로 **axis=0** 옵션을 지정하거나 생략합니다."
   ]
  },
  {
   "cell_type": "code",
   "execution_count": null,
   "metadata": {
    "id": "M1pucV1cJ6sT",
    "scrolled": true
   },
   "outputs": [],
   "source": [
    "# 모든 헹 합치기\n",
    "pop = pd.concat([pop01, pop02], axis=0)\n",
    "\n",
    "# 확인\n",
    "print(pop)"
   ]
  },
  {
   "cell_type": "markdown",
   "metadata": {
    "id": "R-qgH4Npk2CB"
   },
   "source": [
    "- 세로로 합해지면 인덱스 값이 중복될 수 있으므로 인덱스를 초기화합니다."
   ]
  },
  {
   "cell_type": "code",
   "execution_count": null,
   "metadata": {
    "id": "WFLv7qCpktak"
   },
   "outputs": [],
   "source": [
    "# 인덱스 초기화\n",
    "pop.reset_index(drop=True, inplace=True)\n",
    "\n",
    "# 확인\n",
    "print(pop)"
   ]
  },
  {
   "cell_type": "markdown",
   "metadata": {
    "id": "FCNi3cMP-1T6"
   },
   "source": [
    "<img src='https://raw.githubusercontent.com/jangrae/img/master/practice_01.png' width=120 align=\"left\"/>"
   ]
  },
  {
   "cell_type": "markdown",
   "metadata": {
    "id": "BB42jPlS-1UL"
   },
   "source": [
    "[문1] 다음의 세 파일을 불러와서 각각 데이터프레임(sales01, sales02, sales03)으로 저장합니다. \n",
    "* sales01.csv\n",
    "* sales02.csv\n",
    "* sales03.csv"
   ]
  },
  {
   "cell_type": "code",
   "execution_count": null,
   "metadata": {
    "id": "c0o3JSpHMcU4"
   },
   "outputs": [],
   "source": [
    "\n"
   ]
  },
  {
   "cell_type": "markdown",
   "metadata": {
    "id": "EFXJUddXZ7np"
   },
   "source": [
    "[문2] 각 데이터프레임에 OrderDate가 있습니다. OrderDate의 범위(min ~ max)를 확인하시오."
   ]
  },
  {
   "cell_type": "code",
   "execution_count": null,
   "metadata": {
    "id": "wyqFkVw-Z7nq"
   },
   "outputs": [],
   "source": [
    "\n"
   ]
  },
  {
   "cell_type": "markdown",
   "metadata": {
    "id": "dcunVRn1Z7nq"
   },
   "source": [
    "[문3] 세 데이터프레임을 세로로(위, 아래로) 합쳐서 sales 로 저장하시오."
   ]
  },
  {
   "cell_type": "code",
   "execution_count": null,
   "metadata": {
    "id": "pTe9_hFwZ7nq"
   },
   "outputs": [],
   "source": [
    "\n"
   ]
  },
  {
   "cell_type": "markdown",
   "metadata": {
    "id": "0Cq3lmVb5oj2"
   },
   "source": [
    "### 7.2.데이터프레임 Merge(SQL에서의 Join!)\n",
    "\n",
    "- **merge()** 함수를 사용, 두 데이터프레임을 **지정한 칼럼** 값을 기준으로 **가로**로(옆으로)병합할 수 있습니다.\n",
    "    * **지정한 칼럼** : key 라고도 부릅니다. default는 같은 이름 칼럼입니다.\n",
    "    * merge는 **가로**로 만 병합할 수 있습니다."
   ]
  },
  {
   "cell_type": "markdown",
   "metadata": {
    "id": "KqOHu2W4C_0R"
   },
   "source": [
    "<img src='https://raw.githubusercontent.com/Jangrae/img/master/join.png' width=600, align=\"left\"/>"
   ]
  },
  {
   "cell_type": "markdown",
   "metadata": {
    "id": "npocTmMLLuQj"
   },
   "source": [
    "#### 7.2.1.데이터 읽어오기"
   ]
  },
  {
   "cell_type": "code",
   "execution_count": null,
   "metadata": {
    "id": "WGSai17VLuQ6",
    "scrolled": false
   },
   "outputs": [],
   "source": [
    "# 서울 인구정보 읽어오기 #1\n",
    "path = 'https://bit.ly/PopH01File'\n",
    "pop01 = pd.read_csv(path)\n",
    "\n",
    "# 확인\n",
    "print(pop01.head(10))"
   ]
  },
  {
   "cell_type": "code",
   "execution_count": null,
   "metadata": {
    "id": "_nR7Xni4LuQ7",
    "scrolled": false
   },
   "outputs": [],
   "source": [
    "# 서울 인구정보 읽어오기 #2\n",
    "path = 'https://bit.ly/PopH02File'\n",
    "pop02 = pd.read_csv(path)\n",
    "\n",
    "# 확인\n",
    "print(pop02.head(10))"
   ]
  },
  {
   "cell_type": "markdown",
   "metadata": {
    "id": "6DbFlvK6olV4"
   },
   "source": [
    "#### 7.2.2.inner 조인\n",
    "\n",
    "- 같은 이름의 열이 있으면 on 옵션을 지정하지 않아도 그 열을 기준으로 조인됩니다.\n",
    "- 그래도 기준 열을 명시적으로 지정해 주기를 권고합니다.\n",
    "- how='inner' 옵션은 기본 옵션값이므로 생략할 수 있습니다."
   ]
  },
  {
   "cell_type": "code",
   "execution_count": null,
   "metadata": {
    "id": "j5DGezR_GTc6",
    "scrolled": false
   },
   "outputs": [],
   "source": [
    "# 조인\n",
    "pop = pd.merge(pop01, pop02, on='year', how='inner') \n",
    "\n",
    "# 확인\n",
    "print(pop.head(10))"
   ]
  },
  {
   "cell_type": "markdown",
   "metadata": {
    "id": "esr7F4UiMD6I"
   },
   "source": [
    "#### 7.2.3.outer 조인\n",
    "\n",
    "- how='outer' 옵션을 지정합니다."
   ]
  },
  {
   "cell_type": "code",
   "execution_count": null,
   "metadata": {
    "id": "Zlbcjbb8MD6L",
    "scrolled": false
   },
   "outputs": [],
   "source": [
    "# 조인\n",
    "pop = pd.merge(pop01, pop02, on='year',  how='outer') \n",
    "\n",
    "# 확인\n",
    "print(pop.head(10))"
   ]
  },
  {
   "cell_type": "markdown",
   "metadata": {
    "id": "jl_baUE2RqmT"
   },
   "source": [
    "### 7.3 종합실습1"
   ]
  },
  {
   "cell_type": "markdown",
   "metadata": {
    "id": "_Wj4YWpI1nJN"
   },
   "source": [
    "1) 다음 요구사항에 맞게 하나의 코드셀에 순서대로 구문을 작성하고 확인하세요. \n",
    "\n",
    "- 1-1) pandas 라이브러리를 pd 별칭울 주어 불러오세요.\n",
    "- 1-2) 다음 경로의 파일을 읽어와 air 데이터프레임을 만드세요.\n",
    "\n",
    "    - 파일 경로: 'https://raw.githubusercontent.com/Jangrae/csv/master/airquality.csv'\n",
    "    - 단축 경로: 'https://bit.ly/AirQFile'"
   ]
  },
  {
   "cell_type": "code",
   "execution_count": null,
   "metadata": {
    "id": "8hZaRpngVhlS"
   },
   "outputs": [],
   "source": [
    "# 1-1) 라이브러리 불러오기\n",
    "\n",
    "\n",
    "\n",
    "# 1-2) 파일 읽어오기\n",
    "\n"
   ]
  },
  {
   "cell_type": "markdown",
   "metadata": {
    "id": "WAGgvzDv2klV"
   },
   "source": [
    "2) 상위 5개 행을 확인하세요."
   ]
  },
  {
   "cell_type": "code",
   "execution_count": null,
   "metadata": {
    "id": "vJwQEeOt2fSD"
   },
   "outputs": [],
   "source": [
    "# 상위 5개 확인\n",
    "print(air.head())"
   ]
  },
  {
   "cell_type": "markdown",
   "metadata": {
    "id": "UfnBDOrJPyYW"
   },
   "source": [
    "3) 각 열에 결측치가 얼마나 있는지 확인하세요."
   ]
  },
  {
   "cell_type": "code",
   "execution_count": null,
   "metadata": {
    "id": "sFKQKieUPyYW"
   },
   "outputs": [],
   "source": [
    "# 결측치 확인\n"
   ]
  },
  {
   "cell_type": "markdown",
   "metadata": {
    "id": "3dl8Yof7sXFv"
   },
   "source": [
    "4) 다음 요구사항에 맞게 하나의 코드셀에 순서대로 구문을 작성하고 확인하세요. \n",
    "\n",
    "- 4-1) Month, Day 열을 한 번에 삭제하세요.\n",
    "- 4-2) Ozone, Solar.R 두 열 결측치를 바로 앞의 값으로 채우세요.\n",
    "- 4-3) 각 열에 결측치가 남아있는지 확인하세요."
   ]
  },
  {
   "cell_type": "code",
   "execution_count": null,
   "metadata": {
    "id": "rMLb6r445GSW",
    "scrolled": true
   },
   "outputs": [],
   "source": [
    "# 4-1) Month, Day 열 삭제\n",
    "\n",
    "\n",
    "# 4-2) 앞의 값으로 채우기\n",
    "\n",
    "\n",
    "# 4-3) 결측치 존재 여부 확인\n"
   ]
  },
  {
   "cell_type": "markdown",
   "metadata": {
    "id": "v-lLcRB0qz9H"
   },
   "source": [
    "5) 다음 요구사항에 맞게 하나의 코드셀에 순서대로 구문을 작성하고 확인하세요.\n",
    "\n",
    "- 5-1) 기초통계량에서 Temp 열의 25%, 50%, 75% 값을 조회(.describe() 이용)해 q1, q2, q3 변수를 선언하세요.\n",
    "- 5-2) 아래 범위와 값을 참조해 'a' ~ 'd' 값을 갖는 TempGrp 열을 추가하세요.\n",
    "    - q1 이하 → 'a'\n",
    "    - q1 초과 q2 이하 → 'b'\n",
    "    - q2 초과 q3 이하 → 'c'\n",
    "    - q3 초과 → 'd'\n",
    "- 5-3) TempGrp 별 오존 농도를 집계하여 tmp 데이터프레임을 선언하고 조회하시오."
   ]
  },
  {
   "cell_type": "code",
   "execution_count": null,
   "metadata": {
    "collapsed": true,
    "id": "ILdEqjEXyThT"
   },
   "outputs": [],
   "source": [
    "# 5-1) 사분위수 \n",
    "\n",
    "\n",
    "# 5-2)\n",
    "# 라이브러리 불러오기\n",
    "import numpy as np\n",
    "\n",
    "# 등급 구하기\n",
    "\n",
    "\n",
    "# 5-3) 평균\n"
   ]
  },
  {
   "cell_type": "markdown",
   "metadata": {
    "id": "xi1DC-l2TCyq"
   },
   "source": [
    "### 7.4 종합실습2"
   ]
  },
  {
   "cell_type": "markdown",
   "metadata": {
    "id": "C_HPBRxHA56R"
   },
   "source": [
    "1) 다음 요구사항에 맞게 하나의 코드셀에 순서대로 구문을 작성하고 확인하세요.\n",
    "\n",
    "- 1-1) pandas 라이브러리를 pd 별칭을 주어 불러오세요.\n",
    "- 1-2) 다음 경로의 파일들을 불러와 **pop01, pop02, pop03** 데이터프레임을 만드세요. \n",
    "    - 파일1 경로: 'https://bit.ly/PopH01File'    \n",
    "    - 파일2 경로: 'https://bit.ly/PopH02File'   \n",
    "    - 파일3 경로: 'https://bit.ly/PopH03File' \n",
    "- 1-3) 세 개의 데이터프레임을 inner 방식으로 **조인(merge)**해 pop 데이터프레임을 만드세요."
   ]
  },
  {
   "cell_type": "code",
   "execution_count": null,
   "metadata": {
    "id": "914EtI97A56Y"
   },
   "outputs": [],
   "source": [
    "# 1-1) 라이브러리 불러오기\n",
    "import pandas as pd\n",
    "\n",
    "# 1-2) pop01 데이터 읽어오기\n",
    "\n",
    "\n",
    "# 1-2) pop02 데이터 읽어오기\n",
    "\n",
    "\n",
    "# 1-2) pop03 데이터 읽어오기\n",
    "\n",
    "\n",
    "# 1-3) 데이터프레임 조인\n"
   ]
  },
  {
   "cell_type": "markdown",
   "metadata": {
    "id": "V0-wQmv0vNr4"
   },
   "source": [
    "2) pop 데이터프레임 상위 10개 행을 확인하세요."
   ]
  },
  {
   "cell_type": "code",
   "execution_count": null,
   "metadata": {
    "id": "pBM99bMivNr6"
   },
   "outputs": [],
   "source": [
    "# 상위 10개 확인\n"
   ]
  },
  {
   "cell_type": "markdown",
   "metadata": {
    "id": "QfgvRcTvEIfQ"
   },
   "source": [
    "3) 다음 요구사항에 맞게 하나의 코드셀에 순서대로 구문을 작성하고 확인하세요.\n",
    "\n",
    "- 3-1) 다음 공식에 따라 pop 데이터프레임에 k_total, f_total, male, female, total 열을 추가하세요.\n",
    "    - k_total = k_male + k_female\n",
    "    - f_total = f_male + f_female\n",
    "    - male = k_male + f_male\n",
    "    - female = k_female + f_female\n",
    "    - total = k_total + f_total\n",
    "- 3-2) year, total, male, female 열만 추출해 pop_sum 데이터프레임을 선언하세요.\n",
    "- 3-3) pop_sum 데이터프레임 상위 10개 행을 조회하세요."
   ]
  },
  {
   "cell_type": "code",
   "execution_count": null,
   "metadata": {
    "id": "_2UJfoL4Deyq"
   },
   "outputs": [],
   "source": [
    "# 3-1) 열 추가\n",
    "\n",
    "\n",
    "# 3-2) 대표열 선택\n",
    "\n",
    "\n",
    "# 3-3) 확인\n"
   ]
  },
  {
   "cell_type": "code",
   "execution_count": null,
   "metadata": {
    "id": "gZNCIpdnTCy2"
   },
   "outputs": [],
   "source": []
  }
 ],
 "metadata": {
  "colab": {
   "collapsed_sections": [],
   "name": "08 - 판다스 데이터프레임 변경 (3).ipynb",
   "provenance": []
  },
  "kernelspec": {
   "display_name": "Python 3 (ipykernel)",
   "language": "python",
   "name": "python3"
  },
  "language_info": {
   "codemirror_mode": {
    "name": "ipython",
    "version": 3
   },
   "file_extension": ".py",
   "mimetype": "text/x-python",
   "name": "python",
   "nbconvert_exporter": "python",
   "pygments_lexer": "ipython3",
   "version": "3.8.12"
  }
 },
 "nbformat": 4,
 "nbformat_minor": 1
}
