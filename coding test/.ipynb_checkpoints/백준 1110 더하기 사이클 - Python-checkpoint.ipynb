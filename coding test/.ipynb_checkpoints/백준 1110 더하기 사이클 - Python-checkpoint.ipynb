{
 "cells": [
  {
   "cell_type": "code",
   "execution_count": 2,
   "id": "2207d86a",
   "metadata": {},
   "outputs": [],
   "source": [
    "def soultion(n): \n",
    "    while 1:\n",
    "        if n < 10 :\n",
    "            n = a\n",
    "            n = n*10 + n\n",
    "            \n",
    "            \n",
    "    \n",
    "    "
   ]
  }
 ],
 "metadata": {
  "kernelspec": {
   "display_name": "Python 3 (ipykernel)",
   "language": "python",
   "name": "python3"
  },
  "language_info": {
   "codemirror_mode": {
    "name": "ipython",
    "version": 3
   },
   "file_extension": ".py",
   "mimetype": "text/x-python",
   "name": "python",
   "nbconvert_exporter": "python",
   "pygments_lexer": "ipython3",
   "version": "3.8.12"
  }
 },
 "nbformat": 4,
 "nbformat_minor": 5
}
