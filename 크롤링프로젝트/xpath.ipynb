{
 "cells": [
  {
   "cell_type": "code",
   "execution_count": 2,
   "id": "c4204dfc",
   "metadata": {},
   "outputs": [],
   "source": [
    "# xpath : css - selecter 와 같이 Element를 선택하는 문법"
   ]
  },
  {
   "cell_type": "code",
   "execution_count": 3,
   "id": "0f3e297a",
   "metadata": {},
   "outputs": [],
   "source": [
    "import requests\n",
    "from scrapy.http import TextResponse"
   ]
  },
  {
   "cell_type": "code",
   "execution_count": 7,
   "id": "9ac34989",
   "metadata": {},
   "outputs": [],
   "source": [
    "url = \"https://search.naver.com/search.naver?query=삼성전자\""
   ]
  },
  {
   "cell_type": "code",
   "execution_count": 8,
   "id": "cc2ce3d2",
   "metadata": {},
   "outputs": [],
   "source": [
    "req = requests.get(url) # response =requests.get(url)\n",
    "response = TextResponse(req.url, body=req.text, encoding=\"utf-8\") # dom = BeautifulSoup(response.text, \"html.parser\")\n"
   ]
  },
  {
   "cell_type": "code",
   "execution_count": null,
   "id": "0196245a",
   "metadata": {},
   "outputs": [],
   "source": [
    "# 1. element 선택 > 2. Element에서 추출"
   ]
  },
  {
   "cell_type": "code",
   "execution_count": null,
   "id": "d034d682",
   "metadata": {},
   "outputs": [],
   "source": [
    "# //*[@id=\"nx_right_related_keywords\"]/div/div[2]/ul/li[1]/a/div"
   ]
  },
  {
   "cell_type": "code",
   "execution_count": null,
   "id": "92143a5a",
   "metadata": {},
   "outputs": [],
   "source": [
    "# // : 최상위 element \n",
    "# * : 모든 하위 element : .wrap span (모든 span) .wrap > span( 바로 밑 span)\n",
    "# [@id=\"nx_right_related_keywords\"] : 속성 값으로 검색 후 선택\n",
    "# / : 한단계 하위 element \n"
   ]
  },
  {
   "cell_type": "code",
   "execution_count": 13,
   "id": "1d0e7f3f",
   "metadata": {},
   "outputs": [
    {
     "data": {
      "text/plain": [
       "['삼성전자 주가',\n",
       " '삼성전자 배당금',\n",
       " '삼성전자 주식',\n",
       " '삼성전자 특별보너스',\n",
       " '삼성전자 배당금 지급일',\n",
       " '오늘 삼성전자 주가',\n",
       " '삼성전자 성과급',\n",
       " '삼성 전자레인지',\n",
       " '삼성전자 채용',\n",
       " '삼성전자 보너스']"
      ]
     },
     "execution_count": 13,
     "metadata": {},
     "output_type": "execute_result"
    }
   ],
   "source": [
    "# xpath는 결과가 항상 list로 return\n",
    "response.xpath('//*[@id=\"nx_right_related_keywords\"]/div/div[2]/ul/li/a/div/text()').extract()"
   ]
  },
  {
   "cell_type": "code",
   "execution_count": 14,
   "id": "ca30bdf1",
   "metadata": {},
   "outputs": [],
   "source": [
    "# xpath 는 주로 Tag 이름을 이용해서 element를 선택"
   ]
  },
  {
   "cell_type": "code",
   "execution_count": null,
   "id": "0001f0c6",
   "metadata": {},
   "outputs": [],
   "source": []
  }
 ],
 "metadata": {
  "kernelspec": {
   "display_name": "Python 3 (ipykernel)",
   "language": "python",
   "name": "python3"
  },
  "language_info": {
   "codemirror_mode": {
    "name": "ipython",
    "version": 3
   },
   "file_extension": ".py",
   "mimetype": "text/x-python",
   "name": "python",
   "nbconvert_exporter": "python",
   "pygments_lexer": "ipython3",
   "version": "3.8.12"
  }
 },
 "nbformat": 4,
 "nbformat_minor": 5
}
