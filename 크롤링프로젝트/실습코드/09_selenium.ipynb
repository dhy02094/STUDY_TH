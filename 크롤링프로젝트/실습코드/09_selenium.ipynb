{
 "cells": [
  {
   "cell_type": "markdown",
   "id": "2d9b025d",
   "metadata": {},
   "source": [
    "### 웹크롤링 방법\n",
    "- 동적페이지 : json : response.json() : dict, list : DataFrame\n",
    "- 정적페이지 : html : bs : css-selecter : text : DataFrame\n",
    "- selenium 을 이용한 크롤링\n",
    "    - 동적페이지, 정적페이지, API의 방법으로 데이터를 수집할수 없을때 사용\n",
    "    - 파이썬 코드로 컨트롤 할수 있는 자동화된 브라우져를 띄워서 크롤링할 페이지로 이동한 후에 브라우져에 있는 정보를 수집\n",
    "    - 웹서비스 테스트 자동화를 목적으로 만들어진 패키지, 다양한 언어로 사용 가능, 다양한 브라우져를 지원\n",
    "- 동적페이지(json, api) > 정적페이지(html) >>> selenium(browser)\n",
    "- 설정 : 크롬브라우져 설치, 크롬드라이버 다운로드, seleniumn 설치\n",
    "    - 패키지 인스톨 : `!pip install selenium`\n",
    "    - 크롬 드라이버 다운로드 : `https://chromedriver.chromium.org/downloads`\n",
    "    - 압축해제\n",
    "    - 현재 디렉토리로 파일 이동"
   ]
  },
  {
   "cell_type": "code",
   "execution_count": 2,
   "id": "a83a2043",
   "metadata": {},
   "outputs": [],
   "source": [
    "# !pip install selenium"
   ]
  },
  {
   "cell_type": "code",
   "execution_count": 3,
   "id": "75334eb4",
   "metadata": {},
   "outputs": [],
   "source": [
    "import pandas as pd\n",
    "from selenium import webdriver"
   ]
  },
  {
   "cell_type": "code",
   "execution_count": 4,
   "id": "e364b7d7",
   "metadata": {},
   "outputs": [],
   "source": [
    "# 브라우져 열기"
   ]
  },
  {
   "cell_type": "code",
   "execution_count": 5,
   "id": "ff3b584f",
   "metadata": {},
   "outputs": [],
   "source": [
    "driver = webdriver.Chrome()"
   ]
  },
  {
   "cell_type": "code",
   "execution_count": 6,
   "id": "0432e8b3",
   "metadata": {},
   "outputs": [],
   "source": [
    "# 페이지 이동"
   ]
  },
  {
   "cell_type": "code",
   "execution_count": 7,
   "id": "b85fc213",
   "metadata": {},
   "outputs": [],
   "source": [
    "driver.get(\"https://daum.net\")"
   ]
  },
  {
   "cell_type": "code",
   "execution_count": 8,
   "id": "250d6896",
   "metadata": {},
   "outputs": [],
   "source": [
    "# 브라우져 사이즈 조절"
   ]
  },
  {
   "cell_type": "code",
   "execution_count": 12,
   "id": "a9f7b639",
   "metadata": {},
   "outputs": [],
   "source": [
    "driver.set_window_size(900, 1000)"
   ]
  },
  {
   "cell_type": "code",
   "execution_count": 13,
   "id": "b3a20802",
   "metadata": {},
   "outputs": [],
   "source": [
    "# 브라우져 종료 : 메모리 100m 절약"
   ]
  },
  {
   "cell_type": "code",
   "execution_count": 14,
   "id": "ec54068a",
   "metadata": {},
   "outputs": [],
   "source": [
    "driver.quit()"
   ]
  },
  {
   "cell_type": "markdown",
   "id": "719c5d1e",
   "metadata": {},
   "source": [
    "#### ted 사이트에서 영상 목록 데이터 수집"
   ]
  },
  {
   "cell_type": "code",
   "execution_count": 15,
   "id": "09238b9f",
   "metadata": {},
   "outputs": [],
   "source": [
    "# 1. 브라우져 열기"
   ]
  },
  {
   "cell_type": "code",
   "execution_count": 25,
   "id": "232e0862",
   "metadata": {},
   "outputs": [],
   "source": [
    "driver = webdriver.Chrome()"
   ]
  },
  {
   "cell_type": "code",
   "execution_count": 16,
   "id": "15bffc6c",
   "metadata": {},
   "outputs": [],
   "source": [
    "# 2. 테드 사이트로 이동하기"
   ]
  },
  {
   "cell_type": "code",
   "execution_count": 26,
   "id": "cc4eb48e",
   "metadata": {},
   "outputs": [],
   "source": [
    "driver.get(\"https://ted.com/talks\")"
   ]
  },
  {
   "cell_type": "code",
   "execution_count": 21,
   "id": "2263881f",
   "metadata": {},
   "outputs": [],
   "source": [
    "# 3. 타이틀 문자열 데이터 수집하기"
   ]
  },
  {
   "cell_type": "code",
   "execution_count": null,
   "id": "a2e718a0",
   "metadata": {},
   "outputs": [],
   "source": [
    "# select : find_elements_by_css_selector\n",
    "# select_one : find_element_by_css_selector"
   ]
  },
  {
   "cell_type": "code",
   "execution_count": 31,
   "id": "775686f5",
   "metadata": {},
   "outputs": [],
   "source": [
    "import warnings\n",
    "warnings.filterwarnings(\"ignore\")"
   ]
  },
  {
   "cell_type": "code",
   "execution_count": 32,
   "id": "4ba94e52",
   "metadata": {},
   "outputs": [
    {
     "data": {
      "text/plain": [
       "'Join TED Recommends to get the best ideas, selected just for you'"
      ]
     },
     "execution_count": 32,
     "metadata": {},
     "output_type": "execute_result"
    }
   ],
   "source": [
    "driver.find_element_by_css_selector(\"#banner-secondary\").text"
   ]
  },
  {
   "cell_type": "code",
   "execution_count": 22,
   "id": "a2aa113a",
   "metadata": {},
   "outputs": [],
   "source": [
    "# 4. 영상의 제목 데이터 수집하기"
   ]
  },
  {
   "cell_type": "code",
   "execution_count": 33,
   "id": "91b47555",
   "metadata": {},
   "outputs": [],
   "source": [
    "# 여러개의 영상 elements 선택"
   ]
  },
  {
   "cell_type": "code",
   "execution_count": 36,
   "id": "cbb7687c",
   "metadata": {},
   "outputs": [
    {
     "data": {
      "text/plain": [
       "36"
      ]
     },
     "execution_count": 36,
     "metadata": {},
     "output_type": "execute_result"
    }
   ],
   "source": [
    "selector = \"#browse-results > div.row > div\"\n",
    "elements = driver.find_elements_by_css_selector(selector)\n",
    "len(elements)"
   ]
  },
  {
   "cell_type": "code",
   "execution_count": 34,
   "id": "2e478b7a",
   "metadata": {},
   "outputs": [],
   "source": [
    "# 하나의 element에서 필요한 데이터 수집"
   ]
  },
  {
   "cell_type": "code",
   "execution_count": null,
   "id": "2a45761d",
   "metadata": {},
   "outputs": [],
   "source": [
    "# bs : attr : .get(\"href\")\n",
    "# selenium : .get_attribute(\"href\")"
   ]
  },
  {
   "cell_type": "code",
   "execution_count": 41,
   "id": "936154ae",
   "metadata": {},
   "outputs": [
    {
     "data": {
      "text/plain": [
       "{'title': 'Climate action needs new frontline leadership',\n",
       " 'link': 'https://www.ted.com/talks/ozawa_bineshi_albert_climate_action_needs_new_frontline_leadership'}"
      ]
     },
     "execution_count": 41,
     "metadata": {},
     "output_type": "execute_result"
    }
   ],
   "source": [
    "element = elements[0]\n",
    "data = {\n",
    "    \"title\": element.find_element_by_css_selector('h4 > .ga-link').text,\n",
    "    \"link\": element.find_element_by_css_selector('h4 > .ga-link').get_attribute(\"href\"),\n",
    "}\n",
    "data"
   ]
  },
  {
   "cell_type": "code",
   "execution_count": 44,
   "id": "64f670d8",
   "metadata": {},
   "outputs": [
    {
     "name": "stdout",
     "output_type": "stream",
     "text": [
      "Wall time: 482 ms\n"
     ]
    },
    {
     "data": {
      "text/html": [
       "<div>\n",
       "<style scoped>\n",
       "    .dataframe tbody tr th:only-of-type {\n",
       "        vertical-align: middle;\n",
       "    }\n",
       "\n",
       "    .dataframe tbody tr th {\n",
       "        vertical-align: top;\n",
       "    }\n",
       "\n",
       "    .dataframe thead th {\n",
       "        text-align: right;\n",
       "    }\n",
       "</style>\n",
       "<table border=\"1\" class=\"dataframe\">\n",
       "  <thead>\n",
       "    <tr style=\"text-align: right;\">\n",
       "      <th></th>\n",
       "      <th>title</th>\n",
       "      <th>link</th>\n",
       "    </tr>\n",
       "  </thead>\n",
       "  <tbody>\n",
       "    <tr>\n",
       "      <th>34</th>\n",
       "      <td>How to boost nature-based solutions to climate...</td>\n",
       "      <td>https://www.ted.com/talks/zac_goldsmith_how_to...</td>\n",
       "    </tr>\n",
       "    <tr>\n",
       "      <th>35</th>\n",
       "      <td>Which animal has the best eyesight?</td>\n",
       "      <td>https://www.ted.com/talks/thomas_w_cronin_whic...</td>\n",
       "    </tr>\n",
       "  </tbody>\n",
       "</table>\n",
       "</div>"
      ],
      "text/plain": [
       "                                                title  \\\n",
       "34  How to boost nature-based solutions to climate...   \n",
       "35                Which animal has the best eyesight?   \n",
       "\n",
       "                                                 link  \n",
       "34  https://www.ted.com/talks/zac_goldsmith_how_to...  \n",
       "35  https://www.ted.com/talks/thomas_w_cronin_whic...  "
      ]
     },
     "execution_count": 44,
     "metadata": {},
     "output_type": "execute_result"
    }
   ],
   "source": [
    "%%time\n",
    "datas = []\n",
    "for element in elements:\n",
    "    datas.append({\n",
    "        \"title\": element.find_element_by_css_selector('h4 > .ga-link').text,\n",
    "        \"link\": element.find_element_by_css_selector('h4 > .ga-link').get_attribute(\"href\"),\n",
    "    })\n",
    "df = pd.DataFrame(datas)\n",
    "df.tail(2)"
   ]
  },
  {
   "cell_type": "code",
   "execution_count": 23,
   "id": "9491e2db",
   "metadata": {},
   "outputs": [],
   "source": [
    "# 5. 셀렉트 박스의 한국어 클릭하기"
   ]
  },
  {
   "cell_type": "code",
   "execution_count": 46,
   "id": "ee79e7d5",
   "metadata": {},
   "outputs": [],
   "source": [
    "driver.find_element_by_css_selector('[lang=\"ko\"]').click()"
   ]
  },
  {
   "cell_type": "code",
   "execution_count": 24,
   "id": "aad048cf",
   "metadata": {},
   "outputs": [],
   "source": [
    "# 6. 출력된 영상의 제목 데이터 수집하기"
   ]
  },
  {
   "cell_type": "code",
   "execution_count": 49,
   "id": "7c91fcd9",
   "metadata": {},
   "outputs": [],
   "source": [
    "selector = \"#browse-results > div.row > div\"\n",
    "elements = driver.find_elements_by_css_selector(selector)"
   ]
  },
  {
   "cell_type": "code",
   "execution_count": 50,
   "id": "5068952b",
   "metadata": {},
   "outputs": [
    {
     "data": {
      "text/html": [
       "<div>\n",
       "<style scoped>\n",
       "    .dataframe tbody tr th:only-of-type {\n",
       "        vertical-align: middle;\n",
       "    }\n",
       "\n",
       "    .dataframe tbody tr th {\n",
       "        vertical-align: top;\n",
       "    }\n",
       "\n",
       "    .dataframe thead th {\n",
       "        text-align: right;\n",
       "    }\n",
       "</style>\n",
       "<table border=\"1\" class=\"dataframe\">\n",
       "  <thead>\n",
       "    <tr style=\"text-align: right;\">\n",
       "      <th></th>\n",
       "      <th>title</th>\n",
       "      <th>link</th>\n",
       "    </tr>\n",
       "  </thead>\n",
       "  <tbody>\n",
       "    <tr>\n",
       "      <th>34</th>\n",
       "      <td>자연의 요새: 선인장은 어떻게 수분을 유지하고 포식자를 쫓아내는가 - 루카스 C. ...</td>\n",
       "      <td>https://www.ted.com/talks/lucas_c_majure_natur...</td>\n",
       "    </tr>\n",
       "    <tr>\n",
       "      <th>35</th>\n",
       "      <td>슬픈 이야기를 재밌게 만드는 법 - 조디 홀스턴 라우</td>\n",
       "      <td>https://www.ted.com/talks/jodie_houlston_lau_h...</td>\n",
       "    </tr>\n",
       "  </tbody>\n",
       "</table>\n",
       "</div>"
      ],
      "text/plain": [
       "                                                title  \\\n",
       "34  자연의 요새: 선인장은 어떻게 수분을 유지하고 포식자를 쫓아내는가 - 루카스 C. ...   \n",
       "35                      슬픈 이야기를 재밌게 만드는 법 - 조디 홀스턴 라우   \n",
       "\n",
       "                                                 link  \n",
       "34  https://www.ted.com/talks/lucas_c_majure_natur...  \n",
       "35  https://www.ted.com/talks/jodie_houlston_lau_h...  "
      ]
     },
     "execution_count": 50,
     "metadata": {},
     "output_type": "execute_result"
    }
   ],
   "source": [
    "datas = []\n",
    "for element in elements:\n",
    "    datas.append({\n",
    "        \"title\": element.find_element_by_css_selector('h4 > .ga-link').text,\n",
    "        \"link\": element.find_element_by_css_selector('h4 > .ga-link').get_attribute(\"href\"),\n",
    "    })\n",
    "df = pd.DataFrame(datas)\n",
    "df.tail(2)"
   ]
  },
  {
   "cell_type": "code",
   "execution_count": 51,
   "id": "9857b368",
   "metadata": {},
   "outputs": [],
   "source": [
    "# 페이지 이동"
   ]
  },
  {
   "cell_type": "code",
   "execution_count": 52,
   "id": "0bc478a7",
   "metadata": {},
   "outputs": [],
   "source": [
    "driver.get(\"https://daum.net\")"
   ]
  },
  {
   "cell_type": "code",
   "execution_count": 54,
   "id": "f9e3e096",
   "metadata": {},
   "outputs": [],
   "source": [
    "driver.find_element_by_css_selector(\"#q\").send_keys(\"kt\")"
   ]
  },
  {
   "cell_type": "code",
   "execution_count": 55,
   "id": "9fd4bfba",
   "metadata": {},
   "outputs": [],
   "source": [
    "driver.find_element_by_css_selector(\".ico_pctop.btn_search\").click()"
   ]
  },
  {
   "cell_type": "code",
   "execution_count": 56,
   "id": "8a36b4ac",
   "metadata": {},
   "outputs": [],
   "source": [
    "driver.quit()"
   ]
  }
 ],
 "metadata": {
  "kernelspec": {
   "display_name": "Python 3",
   "language": "python",
   "name": "python3"
  },
  "language_info": {
   "codemirror_mode": {
    "name": "ipython",
    "version": 3
   },
   "file_extension": ".py",
   "mimetype": "text/x-python",
   "name": "python",
   "nbconvert_exporter": "python",
   "pygments_lexer": "ipython3",
   "version": "3.8.8"
  }
 },
 "nbformat": 4,
 "nbformat_minor": 5
}
