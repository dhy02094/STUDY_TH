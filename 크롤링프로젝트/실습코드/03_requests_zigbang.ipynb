{
 "cells": [
  {
   "cell_type": "markdown",
   "id": "7e3befcf",
   "metadata": {},
   "source": [
    "### 직방 서비스 원룸 데이터 수집\n",
    "- 복잡한 데이터 수집 방법\n",
    "- 동이름 > 매물정보(데이터프레임)"
   ]
  },
  {
   "cell_type": "markdown",
   "id": "5f3532be",
   "metadata": {},
   "source": [
    "- 절차\n",
    "    - 동이름 > 위도, 경도\n",
    "    - 위도, 경도 > geohash code(지역범위)\n",
    "    - geohash > 매물 아이디\n",
    "    - 매물 아이디 > 매물 정보"
   ]
  },
  {
   "cell_type": "code",
   "execution_count": 5,
   "id": "20294345",
   "metadata": {},
   "outputs": [],
   "source": [
    "import pandas as pd\n",
    "import requests"
   ]
  },
  {
   "cell_type": "code",
   "execution_count": 1,
   "id": "13714229",
   "metadata": {},
   "outputs": [],
   "source": [
    "# 1. 동이름 > 위도, 경도"
   ]
  },
  {
   "cell_type": "code",
   "execution_count": 11,
   "id": "bfb3a795",
   "metadata": {},
   "outputs": [
    {
     "data": {
      "text/plain": [
       "(37.549537658691406, 126.90560913085938)"
      ]
     },
     "execution_count": 11,
     "metadata": {},
     "output_type": "execute_result"
    }
   ],
   "source": [
    "query = \"마포구 합정동\"\n",
    "url = f\"https://apis.zigbang.com/v2/search?leaseYn=N&q={query}&serviceType=원룸\"\n",
    "response = requests.get(url)\n",
    "datas = response.json()[\"items\"][0]\n",
    "lat, lng = datas[\"lat\"], datas[\"lng\"]\n",
    "lat, lng"
   ]
  },
  {
   "cell_type": "code",
   "execution_count": 2,
   "id": "c5e03c9e",
   "metadata": {},
   "outputs": [],
   "source": [
    "# 2. 위도, 경도 > geohash"
   ]
  },
  {
   "cell_type": "code",
   "execution_count": 13,
   "id": "18744e79",
   "metadata": {},
   "outputs": [],
   "source": [
    "# !pip install geohash2"
   ]
  },
  {
   "cell_type": "code",
   "execution_count": 14,
   "id": "ae3ae915",
   "metadata": {},
   "outputs": [],
   "source": [
    "import geohash2"
   ]
  },
  {
   "cell_type": "code",
   "execution_count": 17,
   "id": "eeef8e85",
   "metadata": {},
   "outputs": [
    {
     "data": {
      "text/plain": [
       "'wydjx'"
      ]
     },
     "execution_count": 17,
     "metadata": {},
     "output_type": "execute_result"
    }
   ],
   "source": [
    "# precision : 영역 : 값이 커질수록 영역이 작아짐\n",
    "code = geohash2.encode(lat, lng, precision=5)\n",
    "code"
   ]
  },
  {
   "cell_type": "code",
   "execution_count": 3,
   "id": "f023c281",
   "metadata": {},
   "outputs": [],
   "source": [
    "# 3. geohash > 매물 아이디"
   ]
  },
  {
   "cell_type": "code",
   "execution_count": 20,
   "id": "7ff4bd69",
   "metadata": {},
   "outputs": [
    {
     "data": {
      "text/plain": [
       "<Response [200]>"
      ]
     },
     "execution_count": 20,
     "metadata": {},
     "output_type": "execute_result"
    }
   ],
   "source": [
    "url = f\"https://apis.zigbang.com/v2/items?deposit_gteq=0&domain=zigbang\\\n",
    "&geohash={code}&needHasNoFiltered=true&rent_gteq=0&sales_type_in=전세|월세&service_type_eq=원룸\"\n",
    "response = requests.get(url)\n",
    "response"
   ]
  },
  {
   "cell_type": "code",
   "execution_count": 24,
   "id": "47afe2b4",
   "metadata": {},
   "outputs": [
    {
     "data": {
      "text/plain": [
       "[{'lat': 37.52911584984866, 'lng': 126.89761140063823, 'item_id': 30462357},\n",
       " {'lat': 37.529618523515886, 'lng': 126.89757894127727, 'item_id': 30524930},\n",
       " {'lat': 37.52911607377812, 'lng': 126.89697440047796, 'item_id': 30629925}]"
      ]
     },
     "execution_count": 24,
     "metadata": {},
     "output_type": "execute_result"
    }
   ],
   "source": [
    "datas = response.json()[\"items\"]\n",
    "datas[:3]"
   ]
  },
  {
   "cell_type": "code",
   "execution_count": 25,
   "id": "dc3346c5",
   "metadata": {},
   "outputs": [
    {
     "data": {
      "text/plain": [
       "[30462357, 30524930, 30629925, 30681505, 30494154]"
      ]
     },
     "execution_count": 25,
     "metadata": {},
     "output_type": "execute_result"
    }
   ],
   "source": [
    "ids = []\n",
    "for data in datas:\n",
    "    ids.append(data[\"item_id\"])\n",
    "ids[:5]"
   ]
  },
  {
   "cell_type": "code",
   "execution_count": 26,
   "id": "baeacc2e",
   "metadata": {},
   "outputs": [
    {
     "data": {
      "text/plain": [
       "[30462357, 30524930, 30629925]"
      ]
     },
     "execution_count": 26,
     "metadata": {},
     "output_type": "execute_result"
    }
   ],
   "source": [
    "# list comprehention\n",
    "ids = [data[\"item_id\"] for data in datas]\n",
    "ids[:3]"
   ]
  },
  {
   "cell_type": "code",
   "execution_count": 31,
   "id": "7bc61341",
   "metadata": {},
   "outputs": [
    {
     "data": {
      "text/plain": [
       "[1, 9, 25, 49, 81]"
      ]
     },
     "execution_count": 31,
     "metadata": {},
     "output_type": "execute_result"
    }
   ],
   "source": [
    "# list comprehention : 간단한 리스트 데이터를 만들때\n",
    "# 홀수 데이터만 제곱해서 리스트 만들어 출력\n",
    "result = [data**2 for data in range(10) if data % 2]\n",
    "result"
   ]
  },
  {
   "cell_type": "code",
   "execution_count": 4,
   "id": "fb6afc43",
   "metadata": {},
   "outputs": [],
   "source": [
    "# 4. 매물 아이디 > 매물 정보"
   ]
  },
  {
   "cell_type": "code",
   "execution_count": 33,
   "id": "e014695a",
   "metadata": {},
   "outputs": [
    {
     "data": {
      "text/plain": [
       "[30462357, 30524930, 30629925]"
      ]
     },
     "execution_count": 33,
     "metadata": {},
     "output_type": "execute_result"
    }
   ],
   "source": [
    "ids[:3]"
   ]
  },
  {
   "cell_type": "code",
   "execution_count": 34,
   "id": "b1dc0a71",
   "metadata": {},
   "outputs": [
    {
     "data": {
      "text/plain": [
       "<Response [200]>"
      ]
     },
     "execution_count": 34,
     "metadata": {},
     "output_type": "execute_result"
    }
   ],
   "source": [
    "url = \"https://apis.zigbang.com/v2/items/list\"\n",
    "params = {\n",
    "    \"domain\": \"zigbang\",\n",
    "    \"withCoalition\": \"true\",\n",
    "    \"item_ids\": ids,\n",
    "}\n",
    "response = requests.post(url, params)\n",
    "response"
   ]
  },
  {
   "cell_type": "code",
   "execution_count": 37,
   "id": "1c5387b0",
   "metadata": {},
   "outputs": [
    {
     "data": {
      "text/html": [
       "<div>\n",
       "<style scoped>\n",
       "    .dataframe tbody tr th:only-of-type {\n",
       "        vertical-align: middle;\n",
       "    }\n",
       "\n",
       "    .dataframe tbody tr th {\n",
       "        vertical-align: top;\n",
       "    }\n",
       "\n",
       "    .dataframe thead th {\n",
       "        text-align: right;\n",
       "    }\n",
       "</style>\n",
       "<table border=\"1\" class=\"dataframe\">\n",
       "  <thead>\n",
       "    <tr style=\"text-align: right;\">\n",
       "      <th></th>\n",
       "      <th>section_type</th>\n",
       "      <th>item_id</th>\n",
       "      <th>images_thumbnail</th>\n",
       "      <th>sales_type</th>\n",
       "      <th>sales_title</th>\n",
       "      <th>deposit</th>\n",
       "      <th>rent</th>\n",
       "      <th>size_m2</th>\n",
       "      <th>공급면적</th>\n",
       "      <th>전용면적</th>\n",
       "      <th>...</th>\n",
       "      <th>is_zzim</th>\n",
       "      <th>status</th>\n",
       "      <th>service_type</th>\n",
       "      <th>tags</th>\n",
       "      <th>address1</th>\n",
       "      <th>address2</th>\n",
       "      <th>address3</th>\n",
       "      <th>manage_cost</th>\n",
       "      <th>reg_date</th>\n",
       "      <th>is_new</th>\n",
       "    </tr>\n",
       "  </thead>\n",
       "  <tbody>\n",
       "    <tr>\n",
       "      <th>914</th>\n",
       "      <td>None</td>\n",
       "      <td>30455640</td>\n",
       "      <td>https://ic.zigbang.com/ic/items/30455640/1.jpg</td>\n",
       "      <td>전세</td>\n",
       "      <td>전세</td>\n",
       "      <td>28000</td>\n",
       "      <td>0</td>\n",
       "      <td>33.58</td>\n",
       "      <td>{'m2': 33.58, 'p': '10.2'}</td>\n",
       "      <td>{'m2': 23.98, 'p': '7.3'}</td>\n",
       "      <td>...</td>\n",
       "      <td>False</td>\n",
       "      <td>True</td>\n",
       "      <td>빌라</td>\n",
       "      <td>[추천]</td>\n",
       "      <td>서울시 마포구 중동</td>\n",
       "      <td>None</td>\n",
       "      <td>None</td>\n",
       "      <td>3</td>\n",
       "      <td>2022-02-03T12:00:40+09:00</td>\n",
       "      <td>False</td>\n",
       "    </tr>\n",
       "    <tr>\n",
       "      <th>915</th>\n",
       "      <td>None</td>\n",
       "      <td>30687168</td>\n",
       "      <td>https://ic.zigbang.com/ic/items/30687168/1.jpg</td>\n",
       "      <td>월세</td>\n",
       "      <td>월세</td>\n",
       "      <td>5000</td>\n",
       "      <td>60</td>\n",
       "      <td>41.36</td>\n",
       "      <td>{'m2': 41.36, 'p': '12.5'}</td>\n",
       "      <td>{'m2': 36.36, 'p': '11'}</td>\n",
       "      <td>...</td>\n",
       "      <td>False</td>\n",
       "      <td>True</td>\n",
       "      <td>빌라</td>\n",
       "      <td>[]</td>\n",
       "      <td>서울시 마포구 중동</td>\n",
       "      <td>None</td>\n",
       "      <td>None</td>\n",
       "      <td>8</td>\n",
       "      <td>2022-02-18T14:00:36+09:00</td>\n",
       "      <td>False</td>\n",
       "    </tr>\n",
       "  </tbody>\n",
       "</table>\n",
       "<p>2 rows × 30 columns</p>\n",
       "</div>"
      ],
      "text/plain": [
       "    section_type   item_id                                images_thumbnail  \\\n",
       "914         None  30455640  https://ic.zigbang.com/ic/items/30455640/1.jpg   \n",
       "915         None  30687168  https://ic.zigbang.com/ic/items/30687168/1.jpg   \n",
       "\n",
       "    sales_type sales_title  deposit  rent  size_m2  \\\n",
       "914         전세          전세    28000     0    33.58   \n",
       "915         월세          월세     5000    60    41.36   \n",
       "\n",
       "                           공급면적                       전용면적  ... is_zzim  \\\n",
       "914  {'m2': 33.58, 'p': '10.2'}  {'m2': 23.98, 'p': '7.3'}  ...   False   \n",
       "915  {'m2': 41.36, 'p': '12.5'}   {'m2': 36.36, 'p': '11'}  ...   False   \n",
       "\n",
       "    status service_type  tags    address1 address2 address3 manage_cost  \\\n",
       "914   True           빌라  [추천]  서울시 마포구 중동     None     None           3   \n",
       "915   True           빌라    []  서울시 마포구 중동     None     None           8   \n",
       "\n",
       "                      reg_date is_new  \n",
       "914  2022-02-03T12:00:40+09:00  False  \n",
       "915  2022-02-18T14:00:36+09:00  False  \n",
       "\n",
       "[2 rows x 30 columns]"
      ]
     },
     "execution_count": 37,
     "metadata": {},
     "output_type": "execute_result"
    }
   ],
   "source": [
    "items = response.json()[\"items\"]\n",
    "item_df = pd.DataFrame(items)\n",
    "item_df.tail(2)"
   ]
  },
  {
   "cell_type": "code",
   "execution_count": 40,
   "id": "cd63b57d",
   "metadata": {},
   "outputs": [],
   "source": [
    "pd.options.display.max_columns = 30"
   ]
  },
  {
   "cell_type": "code",
   "execution_count": 42,
   "id": "e4ff0362",
   "metadata": {},
   "outputs": [
    {
     "data": {
      "text/plain": [
       "60"
      ]
     },
     "execution_count": 42,
     "metadata": {},
     "output_type": "execute_result"
    }
   ],
   "source": [
    "pd.options.display.max_rows"
   ]
  },
  {
   "cell_type": "code",
   "execution_count": 45,
   "id": "f811318c",
   "metadata": {},
   "outputs": [],
   "source": [
    "columns = [\n",
    "    'item_id', 'sales_title', 'deposit', 'rent', 'size_m2',\n",
    "    'floor', 'building_floor', 'title', 'room_type', 'address', \n",
    "    'service_type', 'address1', 'manage_cost', 'reg_date', 'is_new',\n",
    "]"
   ]
  },
  {
   "cell_type": "code",
   "execution_count": 47,
   "id": "c0ac301a",
   "metadata": {},
   "outputs": [
    {
     "data": {
      "text/plain": [
       "'마포구 합정동'"
      ]
     },
     "execution_count": 47,
     "metadata": {},
     "output_type": "execute_result"
    }
   ],
   "source": [
    "query"
   ]
  },
  {
   "cell_type": "code",
   "execution_count": 52,
   "id": "97da4f11",
   "metadata": {},
   "outputs": [
    {
     "data": {
      "text/html": [
       "<div>\n",
       "<style scoped>\n",
       "    .dataframe tbody tr th:only-of-type {\n",
       "        vertical-align: middle;\n",
       "    }\n",
       "\n",
       "    .dataframe tbody tr th {\n",
       "        vertical-align: top;\n",
       "    }\n",
       "\n",
       "    .dataframe thead th {\n",
       "        text-align: right;\n",
       "    }\n",
       "</style>\n",
       "<table border=\"1\" class=\"dataframe\">\n",
       "  <thead>\n",
       "    <tr style=\"text-align: right;\">\n",
       "      <th></th>\n",
       "      <th>item_id</th>\n",
       "      <th>sales_title</th>\n",
       "      <th>deposit</th>\n",
       "      <th>rent</th>\n",
       "      <th>size_m2</th>\n",
       "      <th>floor</th>\n",
       "      <th>building_floor</th>\n",
       "      <th>title</th>\n",
       "      <th>room_type</th>\n",
       "      <th>address</th>\n",
       "      <th>service_type</th>\n",
       "      <th>address1</th>\n",
       "      <th>manage_cost</th>\n",
       "      <th>reg_date</th>\n",
       "      <th>is_new</th>\n",
       "    </tr>\n",
       "  </thead>\n",
       "  <tbody>\n",
       "    <tr>\n",
       "      <th>90</th>\n",
       "      <td>30723130</td>\n",
       "      <td>전세</td>\n",
       "      <td>33000</td>\n",
       "      <td>0</td>\n",
       "      <td>50.0</td>\n",
       "      <td>4</td>\n",
       "      <td>5</td>\n",
       "      <td>■합정역/망원역세권■구조좋고 넓은2룸■넓은테라스■베란다</td>\n",
       "      <td>04</td>\n",
       "      <td>마포구 합정동</td>\n",
       "      <td>빌라</td>\n",
       "      <td>서울시 마포구 합정동</td>\n",
       "      <td>5</td>\n",
       "      <td>2022-02-21T10:27:19+09:00</td>\n",
       "      <td>True</td>\n",
       "    </tr>\n",
       "  </tbody>\n",
       "</table>\n",
       "</div>"
      ],
      "text/plain": [
       "     item_id sales_title  deposit  rent  size_m2 floor building_floor  \\\n",
       "90  30723130          전세    33000     0     50.0     4              5   \n",
       "\n",
       "                             title room_type  address service_type  \\\n",
       "90  ■합정역/망원역세권■구조좋고 넓은2룸■넓은테라스■베란다        04  마포구 합정동           빌라   \n",
       "\n",
       "       address1 manage_cost                   reg_date  is_new  \n",
       "90  서울시 마포구 합정동           5  2022-02-21T10:27:19+09:00    True  "
      ]
     },
     "execution_count": 52,
     "metadata": {},
     "output_type": "execute_result"
    }
   ],
   "source": [
    "result_df = item_df[columns]\n",
    "result_df = result_df[result_df[\"address\"].str.contains(query)]\n",
    "result_df = result_df.reset_index(drop=True)\n",
    "result_df.tail(1)"
   ]
  },
  {
   "cell_type": "code",
   "execution_count": 55,
   "id": "6160fa5f",
   "metadata": {},
   "outputs": [],
   "source": [
    "# 보증금 1억 이하, 월세 100만원 이하\n",
    "# result_df[(result_df[\"deposit\"] <= 10000) & (result_df[\"rent\"] <= 100)]"
   ]
  },
  {
   "cell_type": "code",
   "execution_count": 56,
   "id": "7414b640",
   "metadata": {},
   "outputs": [],
   "source": [
    "def oneroom(address):\n",
    "    url = f\"https://apis.zigbang.com/v2/search?leaseYn=N&q={address}&serviceType=원룸\"\n",
    "    response = requests.get(url)\n",
    "    datas = response.json()[\"items\"][0]\n",
    "    lat, lng = datas[\"lat\"], datas[\"lng\"]\n",
    "    code = geohash2.encode(lat, lng, precision=5)\n",
    "    \n",
    "    url = f\"https://apis.zigbang.com/v2/items?deposit_gteq=0&domain=zigbang\\\n",
    "&geohash={code}&needHasNoFiltered=true&rent_gteq=0&sales_type_in=전세|월세&service_type_eq=원룸\"\n",
    "    response = requests.get(url)\n",
    "    datas = response.json()[\"items\"]\n",
    "    ids = [data[\"item_id\"] for data in datas]\n",
    "    \n",
    "    url = \"https://apis.zigbang.com/v2/items/list\"\n",
    "    params = {\n",
    "        \"domain\": \"zigbang\",\n",
    "        \"withCoalition\": \"true\",\n",
    "        \"item_ids\": ids,\n",
    "    }\n",
    "    response = requests.post(url, params)\n",
    "    items = response.json()[\"items\"]\n",
    "    item_df = pd.DataFrame(items)\n",
    "    \n",
    "    columns = [\n",
    "        'item_id', 'sales_title', 'deposit', 'rent', 'size_m2',\n",
    "        'floor', 'building_floor', 'title', 'room_type', 'address', \n",
    "        'service_type', 'address1', 'manage_cost', 'reg_date', 'is_new',\n",
    "    ]\n",
    "    \n",
    "    result_df = item_df[columns]\n",
    "    result_df = result_df[result_df[\"address\"].str.contains(address)]\n",
    "    return result_df.reset_index(drop=True)"
   ]
  },
  {
   "cell_type": "code",
   "execution_count": 57,
   "id": "307117f0",
   "metadata": {},
   "outputs": [
    {
     "data": {
      "text/html": [
       "<div>\n",
       "<style scoped>\n",
       "    .dataframe tbody tr th:only-of-type {\n",
       "        vertical-align: middle;\n",
       "    }\n",
       "\n",
       "    .dataframe tbody tr th {\n",
       "        vertical-align: top;\n",
       "    }\n",
       "\n",
       "    .dataframe thead th {\n",
       "        text-align: right;\n",
       "    }\n",
       "</style>\n",
       "<table border=\"1\" class=\"dataframe\">\n",
       "  <thead>\n",
       "    <tr style=\"text-align: right;\">\n",
       "      <th></th>\n",
       "      <th>item_id</th>\n",
       "      <th>sales_title</th>\n",
       "      <th>deposit</th>\n",
       "      <th>rent</th>\n",
       "      <th>size_m2</th>\n",
       "      <th>floor</th>\n",
       "      <th>building_floor</th>\n",
       "      <th>title</th>\n",
       "      <th>room_type</th>\n",
       "      <th>address</th>\n",
       "      <th>service_type</th>\n",
       "      <th>address1</th>\n",
       "      <th>manage_cost</th>\n",
       "      <th>reg_date</th>\n",
       "      <th>is_new</th>\n",
       "    </tr>\n",
       "  </thead>\n",
       "  <tbody>\n",
       "    <tr>\n",
       "      <th>0</th>\n",
       "      <td>30483493</td>\n",
       "      <td>전세</td>\n",
       "      <td>23000</td>\n",
       "      <td>0</td>\n",
       "      <td>18.99</td>\n",
       "      <td>6</td>\n",
       "      <td>6</td>\n",
       "      <td>🦋합정역,신축1.5룸가성비짱,한강공원도보,보증보험OK</td>\n",
       "      <td>02</td>\n",
       "      <td>마포구 망원동</td>\n",
       "      <td>원룸</td>\n",
       "      <td>서울시 마포구 망원동</td>\n",
       "      <td>5</td>\n",
       "      <td>2022-02-04T15:40:23+09:00</td>\n",
       "      <td>False</td>\n",
       "    </tr>\n",
       "    <tr>\n",
       "      <th>1</th>\n",
       "      <td>30608827</td>\n",
       "      <td>전세</td>\n",
       "      <td>23000</td>\n",
       "      <td>0</td>\n",
       "      <td>42.98</td>\n",
       "      <td>6</td>\n",
       "      <td>6</td>\n",
       "      <td>방1개 별도거실 주방 화장실 다용도실 분리형원룸 입니다</td>\n",
       "      <td>04</td>\n",
       "      <td>마포구 망원동</td>\n",
       "      <td>빌라</td>\n",
       "      <td>서울시 마포구 망원동</td>\n",
       "      <td>7</td>\n",
       "      <td>2022-02-12T16:27:27+09:00</td>\n",
       "      <td>False</td>\n",
       "    </tr>\n",
       "    <tr>\n",
       "      <th>2</th>\n",
       "      <td>30578522</td>\n",
       "      <td>월세</td>\n",
       "      <td>12000</td>\n",
       "      <td>10</td>\n",
       "      <td>12.21</td>\n",
       "      <td>3</td>\n",
       "      <td>5</td>\n",
       "      <td>💥LH 가능 깨끗한 방💥</td>\n",
       "      <td>01</td>\n",
       "      <td>마포구 망원동</td>\n",
       "      <td>원룸</td>\n",
       "      <td>서울시 마포구 망원동</td>\n",
       "      <td>5</td>\n",
       "      <td>2022-02-15T18:54:14+09:00</td>\n",
       "      <td>False</td>\n",
       "    </tr>\n",
       "    <tr>\n",
       "      <th>3</th>\n",
       "      <td>30726074</td>\n",
       "      <td>월세</td>\n",
       "      <td>12000</td>\n",
       "      <td>10</td>\n",
       "      <td>13.22</td>\n",
       "      <td>3</td>\n",
       "      <td>5</td>\n",
       "      <td>🎶 [LH 가능!] 🎶 [깔끔한 방!]</td>\n",
       "      <td>01</td>\n",
       "      <td>마포구 망원동</td>\n",
       "      <td>원룸</td>\n",
       "      <td>서울시 마포구 망원동</td>\n",
       "      <td>5</td>\n",
       "      <td>2022-02-21T11:45:06+09:00</td>\n",
       "      <td>True</td>\n",
       "    </tr>\n",
       "    <tr>\n",
       "      <th>4</th>\n",
       "      <td>30340227</td>\n",
       "      <td>월세</td>\n",
       "      <td>1000</td>\n",
       "      <td>49</td>\n",
       "      <td>23.14</td>\n",
       "      <td>3</td>\n",
       "      <td>5</td>\n",
       "      <td>⭕망원역세권 7평원룸 내부깔끔⭕</td>\n",
       "      <td>01</td>\n",
       "      <td>마포구 망원동</td>\n",
       "      <td>원룸</td>\n",
       "      <td>서울시 마포구 망원동</td>\n",
       "      <td>3</td>\n",
       "      <td>2022-01-22T14:38:50+09:00</td>\n",
       "      <td>False</td>\n",
       "    </tr>\n",
       "    <tr>\n",
       "      <th>...</th>\n",
       "      <td>...</td>\n",
       "      <td>...</td>\n",
       "      <td>...</td>\n",
       "      <td>...</td>\n",
       "      <td>...</td>\n",
       "      <td>...</td>\n",
       "      <td>...</td>\n",
       "      <td>...</td>\n",
       "      <td>...</td>\n",
       "      <td>...</td>\n",
       "      <td>...</td>\n",
       "      <td>...</td>\n",
       "      <td>...</td>\n",
       "      <td>...</td>\n",
       "      <td>...</td>\n",
       "    </tr>\n",
       "    <tr>\n",
       "      <th>89</th>\n",
       "      <td>30573911</td>\n",
       "      <td>전세</td>\n",
       "      <td>37000</td>\n",
       "      <td>0</td>\n",
       "      <td>36.17</td>\n",
       "      <td>2</td>\n",
       "      <td>6</td>\n",
       "      <td>마포구청역 3분.전세대출가능.무융자.신축급 컨디션 투룸~!</td>\n",
       "      <td>04</td>\n",
       "      <td>마포구 망원동</td>\n",
       "      <td>빌라</td>\n",
       "      <td>서울시 마포구 망원동</td>\n",
       "      <td>4.3</td>\n",
       "      <td>2022-02-10T13:55:31+09:00</td>\n",
       "      <td>False</td>\n",
       "    </tr>\n",
       "    <tr>\n",
       "      <th>90</th>\n",
       "      <td>30606067</td>\n",
       "      <td>전세</td>\n",
       "      <td>37000</td>\n",
       "      <td>0</td>\n",
       "      <td>39.67</td>\n",
       "      <td>2</td>\n",
       "      <td>6</td>\n",
       "      <td>🌷 대출가능! 투룸! 깔끔한 인테리어! 6호선! 🌷</td>\n",
       "      <td>04</td>\n",
       "      <td>마포구 망원동</td>\n",
       "      <td>빌라</td>\n",
       "      <td>서울시 마포구 망원동</td>\n",
       "      <td>5</td>\n",
       "      <td>2022-02-16T18:36:13+09:00</td>\n",
       "      <td>False</td>\n",
       "    </tr>\n",
       "    <tr>\n",
       "      <th>91</th>\n",
       "      <td>30713445</td>\n",
       "      <td>월세</td>\n",
       "      <td>5000</td>\n",
       "      <td>30</td>\n",
       "      <td>19.83</td>\n",
       "      <td>3</td>\n",
       "      <td>4</td>\n",
       "      <td>🎢마포구청역5분 신축3년차🎢</td>\n",
       "      <td>01</td>\n",
       "      <td>마포구 망원동</td>\n",
       "      <td>원룸</td>\n",
       "      <td>서울시 마포구 망원동</td>\n",
       "      <td>5</td>\n",
       "      <td>2022-02-21T13:46:30+09:00</td>\n",
       "      <td>True</td>\n",
       "    </tr>\n",
       "    <tr>\n",
       "      <th>92</th>\n",
       "      <td>30594723</td>\n",
       "      <td>월세</td>\n",
       "      <td>200</td>\n",
       "      <td>55</td>\n",
       "      <td>16.53</td>\n",
       "      <td>1</td>\n",
       "      <td>3</td>\n",
       "      <td>💖1.5층 단기방! 마포구청역 3분!💖</td>\n",
       "      <td>01</td>\n",
       "      <td>마포구 망원동</td>\n",
       "      <td>원룸</td>\n",
       "      <td>서울시 마포구 망원동</td>\n",
       "      <td>5</td>\n",
       "      <td>2022-02-14T09:49:15+09:00</td>\n",
       "      <td>False</td>\n",
       "    </tr>\n",
       "    <tr>\n",
       "      <th>93</th>\n",
       "      <td>30684919</td>\n",
       "      <td>월세</td>\n",
       "      <td>200</td>\n",
       "      <td>60</td>\n",
       "      <td>19.83</td>\n",
       "      <td>2</td>\n",
       "      <td>3</td>\n",
       "      <td>✔마포구청역 도보4분. 신축급 원룸 월세</td>\n",
       "      <td>01</td>\n",
       "      <td>마포구 망원동</td>\n",
       "      <td>원룸</td>\n",
       "      <td>서울시 마포구 망원동</td>\n",
       "      <td>5</td>\n",
       "      <td>2022-02-17T18:11:46+09:00</td>\n",
       "      <td>False</td>\n",
       "    </tr>\n",
       "  </tbody>\n",
       "</table>\n",
       "<p>94 rows × 15 columns</p>\n",
       "</div>"
      ],
      "text/plain": [
       "     item_id sales_title  deposit  rent  size_m2 floor building_floor  \\\n",
       "0   30483493          전세    23000     0    18.99     6              6   \n",
       "1   30608827          전세    23000     0    42.98     6              6   \n",
       "2   30578522          월세    12000    10    12.21     3              5   \n",
       "3   30726074          월세    12000    10    13.22     3              5   \n",
       "4   30340227          월세     1000    49    23.14     3              5   \n",
       "..       ...         ...      ...   ...      ...   ...            ...   \n",
       "89  30573911          전세    37000     0    36.17     2              6   \n",
       "90  30606067          전세    37000     0    39.67     2              6   \n",
       "91  30713445          월세     5000    30    19.83     3              4   \n",
       "92  30594723          월세      200    55    16.53     1              3   \n",
       "93  30684919          월세      200    60    19.83     2              3   \n",
       "\n",
       "                               title room_type  address service_type  \\\n",
       "0      🦋합정역,신축1.5룸가성비짱,한강공원도보,보증보험OK        02  마포구 망원동           원룸   \n",
       "1     방1개 별도거실 주방 화장실 다용도실 분리형원룸 입니다        04  마포구 망원동           빌라   \n",
       "2                      💥LH 가능 깨끗한 방💥        01  마포구 망원동           원룸   \n",
       "3              🎶 [LH 가능!] 🎶 [깔끔한 방!]        01  마포구 망원동           원룸   \n",
       "4                  ⭕망원역세권 7평원룸 내부깔끔⭕        01  마포구 망원동           원룸   \n",
       "..                               ...       ...      ...          ...   \n",
       "89  마포구청역 3분.전세대출가능.무융자.신축급 컨디션 투룸~!        04  마포구 망원동           빌라   \n",
       "90      🌷 대출가능! 투룸! 깔끔한 인테리어! 6호선! 🌷        04  마포구 망원동           빌라   \n",
       "91                   🎢마포구청역5분 신축3년차🎢        01  마포구 망원동           원룸   \n",
       "92             💖1.5층 단기방! 마포구청역 3분!💖        01  마포구 망원동           원룸   \n",
       "93            ✔마포구청역 도보4분. 신축급 원룸 월세        01  마포구 망원동           원룸   \n",
       "\n",
       "       address1 manage_cost                   reg_date  is_new  \n",
       "0   서울시 마포구 망원동           5  2022-02-04T15:40:23+09:00   False  \n",
       "1   서울시 마포구 망원동           7  2022-02-12T16:27:27+09:00   False  \n",
       "2   서울시 마포구 망원동           5  2022-02-15T18:54:14+09:00   False  \n",
       "3   서울시 마포구 망원동           5  2022-02-21T11:45:06+09:00    True  \n",
       "4   서울시 마포구 망원동           3  2022-01-22T14:38:50+09:00   False  \n",
       "..          ...         ...                        ...     ...  \n",
       "89  서울시 마포구 망원동         4.3  2022-02-10T13:55:31+09:00   False  \n",
       "90  서울시 마포구 망원동           5  2022-02-16T18:36:13+09:00   False  \n",
       "91  서울시 마포구 망원동           5  2022-02-21T13:46:30+09:00    True  \n",
       "92  서울시 마포구 망원동           5  2022-02-14T09:49:15+09:00   False  \n",
       "93  서울시 마포구 망원동           5  2022-02-17T18:11:46+09:00   False  \n",
       "\n",
       "[94 rows x 15 columns]"
      ]
     },
     "execution_count": 57,
     "metadata": {},
     "output_type": "execute_result"
    }
   ],
   "source": [
    "oneroom(\"망원동\")"
   ]
  },
  {
   "cell_type": "code",
   "execution_count": null,
   "id": "94f23b48",
   "metadata": {},
   "outputs": [],
   "source": []
  },
  {
   "cell_type": "code",
   "execution_count": null,
   "id": "e6e0b270",
   "metadata": {},
   "outputs": [],
   "source": []
  },
  {
   "cell_type": "code",
   "execution_count": null,
   "id": "021392cb",
   "metadata": {},
   "outputs": [],
   "source": []
  },
  {
   "cell_type": "code",
   "execution_count": null,
   "id": "c246ae36",
   "metadata": {},
   "outputs": [],
   "source": []
  },
  {
   "cell_type": "code",
   "execution_count": null,
   "id": "8e35f9b5",
   "metadata": {},
   "outputs": [],
   "source": []
  }
 ],
 "metadata": {
  "kernelspec": {
   "display_name": "Python 3",
   "language": "python",
   "name": "python3"
  },
  "language_info": {
   "codemirror_mode": {
    "name": "ipython",
    "version": 3
   },
   "file_extension": ".py",
   "mimetype": "text/x-python",
   "name": "python",
   "nbconvert_exporter": "python",
   "pygments_lexer": "ipython3",
   "version": "3.8.8"
  }
 },
 "nbformat": 4,
 "nbformat_minor": 5
}
