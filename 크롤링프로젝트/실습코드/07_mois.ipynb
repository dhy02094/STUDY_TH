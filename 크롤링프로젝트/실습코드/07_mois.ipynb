{
 "cells": [
  {
   "cell_type": "markdown",
   "id": "b47acf74",
   "metadata": {},
   "source": [
    "### 행정안전부 보도자료 데이터 수집\n",
    "- 정적페이지 데이터 수집 : html : bs, css-selecter\n",
    "- post 방식\n",
    "- 여러개의 페이지 데이터 수집"
   ]
  },
  {
   "cell_type": "code",
   "execution_count": 2,
   "id": "d920b60f",
   "metadata": {},
   "outputs": [],
   "source": [
    "import pandas as pd\n",
    "import requests\n",
    "from bs4 import BeautifulSoup"
   ]
  },
  {
   "cell_type": "code",
   "execution_count": 3,
   "id": "7b4a1157",
   "metadata": {},
   "outputs": [],
   "source": [
    "# 1. 웹서비스 분석 : url"
   ]
  },
  {
   "cell_type": "code",
   "execution_count": 5,
   "id": "88dee399",
   "metadata": {},
   "outputs": [],
   "source": [
    "page = 3\n",
    "url = \"https://www.mois.go.kr/frt/bbs/type010/commonSelectBoardList.do?bbsId=BBSMSTR_000000000008\"\n",
    "params = {\n",
    "    \"nttId\": \"0\",\n",
    "    \"bbsTyCode\": \"BBST03\",\n",
    "    \"bbsAttrbCode\": \"BBSA03\",\n",
    "    \"authFlag\": \"Y\",\n",
    "    \"pageIndex\": page,\n",
    "    \"cal_url\": \"/sym/cal/EgovNormalCalPopup.do\",\n",
    "    \"searchCnd\": \"0\",\n",
    "}"
   ]
  },
  {
   "cell_type": "code",
   "execution_count": 3,
   "id": "e69c9d1b",
   "metadata": {},
   "outputs": [],
   "source": [
    "# 2. request(url, params) > response : html"
   ]
  },
  {
   "cell_type": "code",
   "execution_count": 6,
   "id": "fa39e87c",
   "metadata": {},
   "outputs": [
    {
     "data": {
      "text/plain": [
       "<Response [200]>"
      ]
     },
     "execution_count": 6,
     "metadata": {},
     "output_type": "execute_result"
    }
   ],
   "source": [
    "response = requests.post(url, params)\n",
    "response"
   ]
  },
  {
   "cell_type": "code",
   "execution_count": 4,
   "id": "9c5bbef4",
   "metadata": {},
   "outputs": [],
   "source": [
    "# 3. html(str) > bs_obj > bs_obj.select(css-selecter) > text > DataFrame"
   ]
  },
  {
   "cell_type": "code",
   "execution_count": 8,
   "id": "6b4b1597",
   "metadata": {},
   "outputs": [],
   "source": [
    "dom = BeautifulSoup(response.text, \"html.parser\")"
   ]
  },
  {
   "cell_type": "code",
   "execution_count": 12,
   "id": "d8b87c9e",
   "metadata": {},
   "outputs": [
    {
     "data": {
      "text/plain": [
       "10"
      ]
     },
     "execution_count": 12,
     "metadata": {},
     "output_type": "execute_result"
    }
   ],
   "source": [
    "# 게시글 리스트 데이터 선택 : 10개\n",
    "elements = dom.select(\"#print_area > div.table_wrap.type_01 > form > table > tbody > tr\")\n",
    "len(elements)"
   ]
  },
  {
   "cell_type": "code",
   "execution_count": 21,
   "id": "fd7d424b",
   "metadata": {},
   "outputs": [
    {
     "data": {
      "text/plain": [
       "{'no': '12931',\n",
       " 'title': '사이버대학 성적·졸업증명서도 모바일 전자증명서로 발급한다',\n",
       " 'writer': '공공지능정책과',\n",
       " 'date': '2022.02.15.',\n",
       " 'pv': '812',\n",
       " 'link': 'https://www.mois.go.kr/frt/bbs/type010/commonSelectBoardArticle.do;jsessionid=cXtZi7EmWtNksourxkKFKD0o.node40?bbsId=BBSMSTR_000000000008&nttId=90455'}"
      ]
     },
     "execution_count": 21,
     "metadata": {},
     "output_type": "execute_result"
    }
   ],
   "source": [
    "# 각 데이터에서 필요한 정보 수집\n",
    "element = elements[0]\n",
    "data = {\n",
    "    \"no\": element.select(\"td\")[0].text.strip(),\n",
    "    \"title\": element.select(\"td\")[1].text.strip(),\n",
    "    \"writer\": element.select(\"td\")[3].text.strip(),\n",
    "    \"date\": element.select(\"td\")[4].text.strip(),\n",
    "    \"pv\": element.select(\"td\")[5].text.strip(),\n",
    "    \"link\": \"https://www.mois.go.kr\" + element.select(\"td\")[1].select_one(\"a\").get(\"href\"),\n",
    "}\n",
    "data"
   ]
  },
  {
   "cell_type": "code",
   "execution_count": 22,
   "id": "ef37ab3d",
   "metadata": {},
   "outputs": [],
   "source": [
    "# [{row1}, {row2}]"
   ]
  },
  {
   "cell_type": "code",
   "execution_count": 24,
   "id": "3a83c1c4",
   "metadata": {},
   "outputs": [
    {
     "data": {
      "text/html": [
       "<div>\n",
       "<style scoped>\n",
       "    .dataframe tbody tr th:only-of-type {\n",
       "        vertical-align: middle;\n",
       "    }\n",
       "\n",
       "    .dataframe tbody tr th {\n",
       "        vertical-align: top;\n",
       "    }\n",
       "\n",
       "    .dataframe thead th {\n",
       "        text-align: right;\n",
       "    }\n",
       "</style>\n",
       "<table border=\"1\" class=\"dataframe\">\n",
       "  <thead>\n",
       "    <tr style=\"text-align: right;\">\n",
       "      <th></th>\n",
       "      <th>no</th>\n",
       "      <th>title</th>\n",
       "      <th>writer</th>\n",
       "      <th>date</th>\n",
       "      <th>pv</th>\n",
       "      <th>link</th>\n",
       "    </tr>\n",
       "  </thead>\n",
       "  <tbody>\n",
       "    <tr>\n",
       "      <th>8</th>\n",
       "      <td>12923</td>\n",
       "      <td>스마트워크센터 밀집현상 해소를 위해 서울역 2호점 추가 개소</td>\n",
       "      <td>스마트행정기반과</td>\n",
       "      <td>2022.02.10.</td>\n",
       "      <td>1042</td>\n",
       "      <td>https://www.mois.go.kr/frt/bbs/type010/commonS...</td>\n",
       "    </tr>\n",
       "    <tr>\n",
       "      <th>9</th>\n",
       "      <td>12922</td>\n",
       "      <td>2022년 지방규제, 지역활력 제고에 초점 맞추기로</td>\n",
       "      <td>지방규제혁신과</td>\n",
       "      <td>2022.02.10.</td>\n",
       "      <td>1120</td>\n",
       "      <td>https://www.mois.go.kr/frt/bbs/type010/commonS...</td>\n",
       "    </tr>\n",
       "  </tbody>\n",
       "</table>\n",
       "</div>"
      ],
      "text/plain": [
       "      no                              title    writer         date    pv  \\\n",
       "8  12923  스마트워크센터 밀집현상 해소를 위해 서울역 2호점 추가 개소  스마트행정기반과  2022.02.10.  1042   \n",
       "9  12922       2022년 지방규제, 지역활력 제고에 초점 맞추기로   지방규제혁신과  2022.02.10.  1120   \n",
       "\n",
       "                                                link  \n",
       "8  https://www.mois.go.kr/frt/bbs/type010/commonS...  \n",
       "9  https://www.mois.go.kr/frt/bbs/type010/commonS...  "
      ]
     },
     "execution_count": 24,
     "metadata": {},
     "output_type": "execute_result"
    }
   ],
   "source": [
    "datas = []\n",
    "for element in elements:\n",
    "    datas.append({\n",
    "        \"no\": element.select(\"td\")[0].text.strip(),\n",
    "        \"title\": element.select(\"td\")[1].text.strip(),\n",
    "        \"writer\": element.select(\"td\")[3].text.strip(),\n",
    "        \"date\": element.select(\"td\")[4].text.strip(),\n",
    "        \"pv\": element.select(\"td\")[5].text.strip(),\n",
    "        \"link\": \"https://www.mois.go.kr\" + element.select(\"td\")[1].select_one(\"a\").get(\"href\"),\n",
    "    })\n",
    "df = pd.DataFrame(datas)\n",
    "df.tail(2)"
   ]
  },
  {
   "cell_type": "code",
   "execution_count": 5,
   "id": "5fe6d63c",
   "metadata": {},
   "outputs": [],
   "source": [
    "# 4. function : params : page"
   ]
  },
  {
   "cell_type": "code",
   "execution_count": 25,
   "id": "dfbe9340",
   "metadata": {},
   "outputs": [],
   "source": [
    "def mois(page):\n",
    "    url = \"https://www.mois.go.kr/frt/bbs/type010/commonSelectBoardList.do?bbsId=BBSMSTR_000000000008\"\n",
    "    params = {\n",
    "        \"nttId\": \"0\",\n",
    "        \"bbsTyCode\": \"BBST03\",\n",
    "        \"bbsAttrbCode\": \"BBSA03\",\n",
    "        \"authFlag\": \"Y\",\n",
    "        \"pageIndex\": page,\n",
    "        \"cal_url\": \"/sym/cal/EgovNormalCalPopup.do\",\n",
    "        \"searchCnd\": \"0\",\n",
    "    }\n",
    "    response = requests.post(url, params)\n",
    "    dom = BeautifulSoup(response.text, \"html.parser\")\n",
    "    elements = dom.select(\"#print_area > div.table_wrap.type_01 > form > table > tbody > tr\")\n",
    "    datas = []\n",
    "    for element in elements:\n",
    "        datas.append({\n",
    "            \"no\": element.select(\"td\")[0].text.strip(),\n",
    "            \"title\": element.select(\"td\")[1].text.strip(),\n",
    "            \"writer\": element.select(\"td\")[3].text.strip(),\n",
    "            \"date\": element.select(\"td\")[4].text.strip(),\n",
    "            \"pv\": element.select(\"td\")[5].text.strip(),\n",
    "            \"link\": \"https://www.mois.go.kr\" + element.select(\"td\")[1].select_one(\"a\").get(\"href\"),\n",
    "        })\n",
    "    return pd.DataFrame(datas)"
   ]
  },
  {
   "cell_type": "code",
   "execution_count": 6,
   "id": "21f370c5",
   "metadata": {},
   "outputs": [],
   "source": [
    "# 5. 여러 페이지 데이터 수집"
   ]
  },
  {
   "cell_type": "code",
   "execution_count": 31,
   "id": "5891db8f",
   "metadata": {},
   "outputs": [
    {
     "name": "stdout",
     "output_type": "stream",
     "text": [
      "1 2 3 "
     ]
    }
   ],
   "source": [
    "dfs = []\n",
    "for page in range(1, 4):\n",
    "    print(page, end=\" \")\n",
    "    dfs.append(mois(page))"
   ]
  },
  {
   "cell_type": "code",
   "execution_count": 37,
   "id": "a8443d08",
   "metadata": {},
   "outputs": [
    {
     "data": {
      "text/html": [
       "<div>\n",
       "<style scoped>\n",
       "    .dataframe tbody tr th:only-of-type {\n",
       "        vertical-align: middle;\n",
       "    }\n",
       "\n",
       "    .dataframe tbody tr th {\n",
       "        vertical-align: top;\n",
       "    }\n",
       "\n",
       "    .dataframe thead th {\n",
       "        text-align: right;\n",
       "    }\n",
       "</style>\n",
       "<table border=\"1\" class=\"dataframe\">\n",
       "  <thead>\n",
       "    <tr style=\"text-align: right;\">\n",
       "      <th></th>\n",
       "      <th>no</th>\n",
       "      <th>title</th>\n",
       "      <th>writer</th>\n",
       "      <th>date</th>\n",
       "      <th>pv</th>\n",
       "      <th>link</th>\n",
       "    </tr>\n",
       "  </thead>\n",
       "  <tbody>\n",
       "    <tr>\n",
       "      <th>28</th>\n",
       "      <td>12923</td>\n",
       "      <td>스마트워크센터 밀집현상 해소를 위해 서울역 2호점 추가 개소</td>\n",
       "      <td>스마트행정기반과</td>\n",
       "      <td>2022.02.10.</td>\n",
       "      <td>1044</td>\n",
       "      <td>https://www.mois.go.kr/frt/bbs/type010/commonS...</td>\n",
       "    </tr>\n",
       "    <tr>\n",
       "      <th>29</th>\n",
       "      <td>12922</td>\n",
       "      <td>2022년 지방규제, 지역활력 제고에 초점 맞추기로</td>\n",
       "      <td>지방규제혁신과</td>\n",
       "      <td>2022.02.10.</td>\n",
       "      <td>1122</td>\n",
       "      <td>https://www.mois.go.kr/frt/bbs/type010/commonS...</td>\n",
       "    </tr>\n",
       "  </tbody>\n",
       "</table>\n",
       "</div>"
      ],
      "text/plain": [
       "       no                              title    writer         date    pv  \\\n",
       "28  12923  스마트워크센터 밀집현상 해소를 위해 서울역 2호점 추가 개소  스마트행정기반과  2022.02.10.  1044   \n",
       "29  12922       2022년 지방규제, 지역활력 제고에 초점 맞추기로   지방규제혁신과  2022.02.10.  1122   \n",
       "\n",
       "                                                 link  \n",
       "28  https://www.mois.go.kr/frt/bbs/type010/commonS...  \n",
       "29  https://www.mois.go.kr/frt/bbs/type010/commonS...  "
      ]
     },
     "execution_count": 37,
     "metadata": {},
     "output_type": "execute_result"
    }
   ],
   "source": [
    "result_df = pd.concat(dfs, ignore_index=True)\n",
    "result_df.tail(2)"
   ]
  }
 ],
 "metadata": {
  "kernelspec": {
   "display_name": "Python 3 (ipykernel)",
   "language": "python",
   "name": "python3"
  },
  "language_info": {
   "codemirror_mode": {
    "name": "ipython",
    "version": 3
   },
   "file_extension": ".py",
   "mimetype": "text/x-python",
   "name": "python",
   "nbconvert_exporter": "python",
   "pygments_lexer": "ipython3",
   "version": "3.8.12"
  }
 },
 "nbformat": 4,
 "nbformat_minor": 5
}
