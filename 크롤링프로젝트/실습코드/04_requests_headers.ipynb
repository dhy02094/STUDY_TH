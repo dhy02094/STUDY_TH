{
 "cells": [
  {
   "cell_type": "code",
   "execution_count": 1,
   "id": "185d10b1",
   "metadata": {},
   "outputs": [],
   "source": [
    "import requests\n",
    "import pandas as pd"
   ]
  },
  {
   "cell_type": "markdown",
   "id": "ccfc3ebc",
   "metadata": {},
   "source": [
    "### headers : daum exchange rate : 환율 데이터 수집"
   ]
  },
  {
   "cell_type": "code",
   "execution_count": 2,
   "id": "a1f4ccc2",
   "metadata": {},
   "outputs": [],
   "source": [
    "# 1. 웹서비스 분석 : URL"
   ]
  },
  {
   "cell_type": "code",
   "execution_count": 5,
   "id": "3b6c7d21",
   "metadata": {},
   "outputs": [],
   "source": [
    "url = \"https://finance.daum.net/api/exchanges/summaries\""
   ]
  },
  {
   "cell_type": "code",
   "execution_count": 3,
   "id": "3be29085",
   "metadata": {},
   "outputs": [],
   "source": [
    "# 2. request(url) > response(data) : data(json(str))"
   ]
  },
  {
   "cell_type": "code",
   "execution_count": 9,
   "id": "048c34cd",
   "metadata": {},
   "outputs": [
    {
     "data": {
      "text/plain": [
       "<Response [200]>"
      ]
     },
     "execution_count": 9,
     "metadata": {},
     "output_type": "execute_result"
    }
   ],
   "source": [
    "headers = {\n",
    "    \"user-agent\": \"Mozilla/5.0 (Windows NT 10.0; Win64; x64) AppleWebKit/537.36 (KHTML, like Gecko) Chrome/98.0.4758.102 Safari/537.36\",\n",
    "    \"referer\": \"https://finance.daum.net/exchanges\",\n",
    "}\n",
    "response = requests.get(url, headers=headers)\n",
    "response"
   ]
  },
  {
   "cell_type": "code",
   "execution_count": 4,
   "id": "3d91f095",
   "metadata": {},
   "outputs": [],
   "source": [
    "# 3. data(json(str)) > dict, list > df"
   ]
  },
  {
   "cell_type": "code",
   "execution_count": 15,
   "id": "961f319b",
   "metadata": {},
   "outputs": [
    {
     "data": {
      "text/html": [
       "<div>\n",
       "<style scoped>\n",
       "    .dataframe tbody tr th:only-of-type {\n",
       "        vertical-align: middle;\n",
       "    }\n",
       "\n",
       "    .dataframe tbody tr th {\n",
       "        vertical-align: top;\n",
       "    }\n",
       "\n",
       "    .dataframe thead th {\n",
       "        text-align: right;\n",
       "    }\n",
       "</style>\n",
       "<table border=\"1\" class=\"dataframe\">\n",
       "  <thead>\n",
       "    <tr style=\"text-align: right;\">\n",
       "      <th></th>\n",
       "      <th>symbolCode</th>\n",
       "      <th>date</th>\n",
       "      <th>currencyCode</th>\n",
       "      <th>basePrice</th>\n",
       "    </tr>\n",
       "  </thead>\n",
       "  <tbody>\n",
       "    <tr>\n",
       "      <th>0</th>\n",
       "      <td>FRX.KRWUSD</td>\n",
       "      <td>2022-02-21 16:54:49</td>\n",
       "      <td>USD</td>\n",
       "      <td>1192.00</td>\n",
       "    </tr>\n",
       "    <tr>\n",
       "      <th>1</th>\n",
       "      <td>FRX.KRWJPY</td>\n",
       "      <td>2022-02-21 16:54:48</td>\n",
       "      <td>JPY</td>\n",
       "      <td>1036.93</td>\n",
       "    </tr>\n",
       "  </tbody>\n",
       "</table>\n",
       "</div>"
      ],
      "text/plain": [
       "   symbolCode                 date currencyCode  basePrice\n",
       "0  FRX.KRWUSD  2022-02-21 16:54:49          USD    1192.00\n",
       "1  FRX.KRWJPY  2022-02-21 16:54:48          JPY    1036.93"
      ]
     },
     "execution_count": 15,
     "metadata": {},
     "output_type": "execute_result"
    }
   ],
   "source": [
    "datas = response.json()[\"data\"]\n",
    "df = pd.DataFrame(datas)[[\"symbolCode\", \"date\", \"currencyCode\", \"basePrice\"]]\n",
    "df.head(2)"
   ]
  },
  {
   "cell_type": "code",
   "execution_count": 16,
   "id": "25d1707e",
   "metadata": {},
   "outputs": [],
   "source": [
    "# summary"
   ]
  },
  {
   "cell_type": "code",
   "execution_count": 17,
   "id": "b39b9b4a",
   "metadata": {},
   "outputs": [],
   "source": [
    "# web : client-server : url\n",
    "# python : requests : request > response\n",
    "# 동적페이지 : URL의 변화 없이 페이지의 데이터를 변환 : json\n",
    "# 정적페이지 : URL을 변환해서 새로운 데이터를 출력 : html\n",
    "\n",
    "# 동적 페이지에서 데이터 수집 절차\n",
    "# 1. 웹서비스분석(개발자도구) : URL\n",
    "# 2. request(url, params, headers) > response(data) : data(json(str))\n",
    "# 3. data(json(str)) > list, dict > DataFrame\n",
    "\n",
    "# API를 이용한 데이터 수집\n",
    "# 1. 어플리케이션 등록 : app_key\n",
    "# 2. api 문서 확인 : url, params, headers\n",
    "# 3. request(url, params, headers(app_key)) > response(data) : data(json(str))\n",
    "# 4. data(json(str)) > list, dict > DataFrame"
   ]
  },
  {
   "cell_type": "code",
   "execution_count": 18,
   "id": "c0bffd0a",
   "metadata": {},
   "outputs": [],
   "source": [
    "# naver : index price, exchange rate\n",
    "# kakao api : translate\n",
    "# zigbang : requests 3번, geohash\n",
    "# daum exchange rate : headers(user-agent, referer)"
   ]
  },
  {
   "cell_type": "code",
   "execution_count": null,
   "id": "f44e87fe",
   "metadata": {},
   "outputs": [],
   "source": []
  },
  {
   "cell_type": "code",
   "execution_count": null,
   "id": "f50128e7",
   "metadata": {},
   "outputs": [],
   "source": []
  },
  {
   "cell_type": "code",
   "execution_count": null,
   "id": "07a26f4c",
   "metadata": {},
   "outputs": [],
   "source": []
  },
  {
   "cell_type": "code",
   "execution_count": null,
   "id": "3b703937",
   "metadata": {},
   "outputs": [],
   "source": []
  },
  {
   "cell_type": "code",
   "execution_count": null,
   "id": "84359cfb",
   "metadata": {},
   "outputs": [],
   "source": []
  }
 ],
 "metadata": {
  "kernelspec": {
   "display_name": "Python 3",
   "language": "python",
   "name": "python3"
  },
  "language_info": {
   "codemirror_mode": {
    "name": "ipython",
    "version": 3
   },
   "file_extension": ".py",
   "mimetype": "text/x-python",
   "name": "python",
   "nbconvert_exporter": "python",
   "pygments_lexer": "ipython3",
   "version": "3.8.8"
  }
 },
 "nbformat": 4,
 "nbformat_minor": 5
}
