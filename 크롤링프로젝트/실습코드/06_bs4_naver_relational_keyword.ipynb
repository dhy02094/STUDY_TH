{
 "cells": [
  {
   "cell_type": "markdown",
   "id": "3af7b3e6",
   "metadata": {},
   "source": [
    "### 네이버 연관검색어 데이터 수집\n",
    "- 정적페이지 : html(str) : BeautifulSoup : bs_obj.select(css-selecter) : text"
   ]
  },
  {
   "cell_type": "code",
   "execution_count": 8,
   "id": "57376cc7",
   "metadata": {},
   "outputs": [],
   "source": [
    "# !pip install bs4"
   ]
  },
  {
   "cell_type": "code",
   "execution_count": 2,
   "id": "234ab520",
   "metadata": {},
   "outputs": [],
   "source": [
    "import requests\n",
    "import pandas as pd\n",
    "from bs4 import BeautifulSoup"
   ]
  },
  {
   "cell_type": "code",
   "execution_count": 3,
   "id": "c1504b1e",
   "metadata": {},
   "outputs": [],
   "source": [
    "# 1. 웹서비스 분석 : url"
   ]
  },
  {
   "cell_type": "code",
   "execution_count": 10,
   "id": "a66e16ee",
   "metadata": {},
   "outputs": [
    {
     "name": "stdout",
     "output_type": "stream",
     "text": [
      "https://search.naver.com/search.naver?query=삼성전자\n"
     ]
    }
   ],
   "source": [
    "keyword = \"삼성전자\"\n",
    "url = f\"https://search.naver.com/search.naver?query={keyword}\"\n",
    "print(url)"
   ]
  },
  {
   "cell_type": "code",
   "execution_count": 7,
   "id": "128cdfa5",
   "metadata": {},
   "outputs": [],
   "source": [
    "# 2. request(url) > response(data) : data(html)\n",
    "# html 문자열은 한페이지 모두"
   ]
  },
  {
   "cell_type": "code",
   "execution_count": 14,
   "id": "c0819d9e",
   "metadata": {},
   "outputs": [
    {
     "data": {
      "text/plain": [
       "<Response [200]>"
      ]
     },
     "execution_count": 14,
     "metadata": {},
     "output_type": "execute_result"
    }
   ],
   "source": [
    "response = requests.get(url)\n",
    "response"
   ]
  },
  {
   "cell_type": "code",
   "execution_count": 15,
   "id": "ef68abff",
   "metadata": {},
   "outputs": [
    {
     "data": {
      "text/plain": [
       "'<!doctype html> <html lang=\"ko\"> <head> <meta charset=\"utf-8\"> <meta name=\"referrer\" content=\"always\">  <meta name=\"format-detection\" content=\"telephone=no,address=no,email=no\"> <meta name=\"viewport\" content=\"width=device-width,initial-scale=1.0,maximum-scale=2.0\"> <meta property=\"og:title\" content=\"삼성전자 : 네이버 통합검색\"/> <meta property=\"og:image\" content=\"https://ssl.pstatic.net/sstatic/search/common/og_v3.png\"> <meta property=\"og:description\" content=\"\\'삼성전자\\'의 네이버 통합검색 결과입니다.\"> <meta name=\"descript'"
      ]
     },
     "execution_count": 15,
     "metadata": {},
     "output_type": "execute_result"
    }
   ],
   "source": [
    "response.text[:500]"
   ]
  },
  {
   "cell_type": "code",
   "execution_count": 9,
   "id": "1275f70e",
   "metadata": {},
   "outputs": [],
   "source": [
    "# 3. data(html) > bs_obj.select(css-selecter) > text"
   ]
  },
  {
   "cell_type": "code",
   "execution_count": 16,
   "id": "214ff17e",
   "metadata": {},
   "outputs": [],
   "source": [
    "dom = BeautifulSoup(response.text, \"html.parser\")"
   ]
  },
  {
   "cell_type": "code",
   "execution_count": 17,
   "id": "59606711",
   "metadata": {},
   "outputs": [
    {
     "data": {
      "text/plain": [
       "bs4.BeautifulSoup"
      ]
     },
     "execution_count": 17,
     "metadata": {},
     "output_type": "execute_result"
    }
   ],
   "source": [
    "type(dom)"
   ]
  },
  {
   "cell_type": "code",
   "execution_count": 20,
   "id": "ed7e5b45",
   "metadata": {},
   "outputs": [],
   "source": [
    "# select() : 여러개의 엘리먼트 선택 : list : [Tag, Tag, Tag ...]\n",
    "# select_one() : 하나의 엘리먼트 선택 : Tag"
   ]
  },
  {
   "cell_type": "code",
   "execution_count": 21,
   "id": "6b5bdd42",
   "metadata": {},
   "outputs": [],
   "source": [
    "# li 엘리먼트 10개 선택"
   ]
  },
  {
   "cell_type": "code",
   "execution_count": 23,
   "id": "51e3664f",
   "metadata": {},
   "outputs": [
    {
     "data": {
      "text/plain": [
       "(10, bs4.element.Tag)"
      ]
     },
     "execution_count": 23,
     "metadata": {},
     "output_type": "execute_result"
    }
   ],
   "source": [
    "elements = dom.select(\".lst_related_srch > li\")\n",
    "len(elements), type(elements[0])"
   ]
  },
  {
   "cell_type": "code",
   "execution_count": 22,
   "id": "3e235c4e",
   "metadata": {},
   "outputs": [],
   "source": [
    "# 반복문으로 각각의 엘리먼트에서 text 추출"
   ]
  },
  {
   "cell_type": "code",
   "execution_count": 27,
   "id": "89f8ebd9",
   "metadata": {},
   "outputs": [
    {
     "data": {
      "text/plain": [
       "'삼성전자 주가'"
      ]
     },
     "execution_count": 27,
     "metadata": {},
     "output_type": "execute_result"
    }
   ],
   "source": [
    "element = elements[0]\n",
    "keyword = element.select_one(\".tit\").text\n",
    "keyword"
   ]
  },
  {
   "cell_type": "code",
   "execution_count": 28,
   "id": "e310098d",
   "metadata": {},
   "outputs": [
    {
     "data": {
      "text/plain": [
       "['삼성전자 주가',\n",
       " '삼성전자 배당금',\n",
       " '삼성전자 주식',\n",
       " '삼성전자 특별보너스',\n",
       " '삼성전자 배당금 지급일',\n",
       " '오늘 삼성전자 주가',\n",
       " '삼성전자 성과급',\n",
       " '삼성 전자레인지',\n",
       " '삼성전자 채용',\n",
       " '삼성전자 보너스']"
      ]
     },
     "execution_count": 28,
     "metadata": {},
     "output_type": "execute_result"
    }
   ],
   "source": [
    "keywords = [element.select_one(\".tit\").text for element in elements]\n",
    "keywords"
   ]
  },
  {
   "cell_type": "code",
   "execution_count": 29,
   "id": "083dbe9a",
   "metadata": {},
   "outputs": [],
   "source": [
    "def ralational_keyword(keyword):\n",
    "    url = f\"https://search.naver.com/search.naver?query={keyword}\"\n",
    "    response = requests.get(url)\n",
    "    dom = BeautifulSoup(response.text, \"html.parser\")\n",
    "    elements = dom.select(\".lst_related_srch > li\")\n",
    "    return [element.select_one(\".tit\").text for element in elements]"
   ]
  },
  {
   "cell_type": "code",
   "execution_count": 31,
   "id": "669d3b62",
   "metadata": {},
   "outputs": [
    {
     "data": {
      "text/plain": [
       "['lg전자 주가',\n",
       " 'lg전자 서비스센터',\n",
       " 'lg전자 성과급',\n",
       " 'lg전자 베스트샵',\n",
       " 'lg 전자레인지',\n",
       " 'lg전자 배당금',\n",
       " 'lg전자 고객센터',\n",
       " 'lg전자 서비스센터 전화번호',\n",
       " 'LG전자성과급 논란',\n",
       " 'lg전자 애플카']"
      ]
     },
     "execution_count": 31,
     "metadata": {},
     "output_type": "execute_result"
    }
   ],
   "source": [
    "keyword = \"LG전자\"\n",
    "ralational_keyword(keyword)"
   ]
  },
  {
   "cell_type": "code",
   "execution_count": null,
   "id": "9e394ae9",
   "metadata": {},
   "outputs": [],
   "source": []
  },
  {
   "cell_type": "code",
   "execution_count": null,
   "id": "825c14cb",
   "metadata": {},
   "outputs": [],
   "source": []
  },
  {
   "cell_type": "code",
   "execution_count": null,
   "id": "f0dae3d3",
   "metadata": {},
   "outputs": [],
   "source": []
  },
  {
   "cell_type": "code",
   "execution_count": null,
   "id": "d1515dd9",
   "metadata": {},
   "outputs": [],
   "source": []
  },
  {
   "cell_type": "code",
   "execution_count": null,
   "id": "7e5579ce",
   "metadata": {},
   "outputs": [],
   "source": []
  },
  {
   "cell_type": "code",
   "execution_count": null,
   "id": "04cf8fa0",
   "metadata": {},
   "outputs": [],
   "source": []
  }
 ],
 "metadata": {
  "kernelspec": {
   "display_name": "Python 3",
   "language": "python",
   "name": "python3"
  },
  "language_info": {
   "codemirror_mode": {
    "name": "ipython",
    "version": 3
   },
   "file_extension": ".py",
   "mimetype": "text/x-python",
   "name": "python",
   "nbconvert_exporter": "python",
   "pygments_lexer": "ipython3",
   "version": "3.8.8"
  }
 },
 "nbformat": 4,
 "nbformat_minor": 5
}
