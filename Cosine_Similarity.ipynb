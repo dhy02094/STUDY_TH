{
  "nbformat": 4,
  "nbformat_minor": 0,
  "metadata": {
    "colab": {
      "name": "Cosine Similarity.ipynb",
      "provenance": [],
      "authorship_tag": "ABX9TyOlGE5GmeAp0deg5dBgCenp",
      "include_colab_link": true
    },
    "kernelspec": {
      "name": "python3",
      "display_name": "Python 3"
    },
    "language_info": {
      "name": "python"
    }
  },
  "cells": [
    {
      "cell_type": "markdown",
      "metadata": {
        "id": "view-in-github",
        "colab_type": "text"
      },
      "source": [
        "<a href=\"https://colab.research.google.com/github/dhy02094/STUDY_TH/blob/master/Cosine_Similarity.ipynb\" target=\"_parent\"><img src=\"https://colab.research.google.com/assets/colab-badge.svg\" alt=\"Open In Colab\"/></a>"
      ]
    },
    {
      "cell_type": "code",
      "execution_count": null,
      "metadata": {
        "colab": {
          "base_uri": "https://localhost:8080/"
        },
        "id": "4sf3F6LYGUGp",
        "outputId": "876ea4e8-10f2-47ce-a52a-422d91a0df01"
      },
      "outputs": [
        {
          "output_type": "stream",
          "name": "stdout",
          "text": [
            "cosine similarity [1 and 2]: [[1.]] cosine similarity [1 and 3]: [[0.07083962]]\n"
          ]
        }
      ],
      "source": [
        "import numpy as np\n",
        "from sklearn.feature_extraction.text import TfidfVectorizer\n",
        "sentence = ('오늘도 폭염이 이어졌는데요. 내일은 반가운 비 소식이 있습니다.',\n",
        "            \"오늘도 폭염이 이어졌는데요. 내일은 반가운 비 소식이 있습니다.\",\n",
        "            '폭염을 피해 놀러왔다가 갑작스런 비로 망연자실하고 있습니다.')\n",
        "tfidf_vectorizer = TfidfVectorizer()\n",
        "tfidf_matrix = tfidf_vectorizer.fit_transform(sentence)\n",
        "from sklearn.metrics.pairwise import cosine_similarity\n",
        "print(\"cosine similarity [1 and 2]:\",\n",
        "      cosine_similarity(tfidf_matrix[0], tfidf_matrix[1]),\n",
        "      'cosine similarity [1 and 3]:',\n",
        "    cosine_similarity(tfidf_matrix[0], tfidf_matrix[2]))"
      ]
    },
    {
      "cell_type": "code",
      "source": [
        ""
      ],
      "metadata": {
        "colab": {
          "base_uri": "https://localhost:8080/"
        },
        "id": "mUfM9-A4HGtW",
        "outputId": "1e07dd58-722e-4dbe-9f90-aa3dbed31ba0"
      },
      "execution_count": null,
      "outputs": [
        {
          "output_type": "execute_result",
          "data": {
            "text/plain": [
              "(3, 13)"
            ]
          },
          "metadata": {},
          "execution_count": 13
        }
      ]
    },
    {
      "cell_type": "code",
      "source": [
        ""
      ],
      "metadata": {
        "id": "MUwApNa6MGEA"
      },
      "execution_count": null,
      "outputs": []
    }
  ]
}