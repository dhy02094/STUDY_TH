{
  "nbformat": 4,
  "nbformat_minor": 0,
  "metadata": {
    "colab": {
      "name": "03_exercise_data_augmentation.ipynb",
      "provenance": [],
      "collapsed_sections": [],
      "include_colab_link": true
    },
    "kernelspec": {
      "name": "python3",
      "display_name": "Python 3"
    },
    "accelerator": "GPU"
  },
  "cells": [
    {
      "cell_type": "markdown",
      "metadata": {
        "id": "view-in-github",
        "colab_type": "text"
      },
      "source": [
        "<a href=\"https://colab.research.google.com/github/dhy02094/STUDY_TH/blob/master/data_augmentation_code.ipynb\" target=\"_parent\"><img src=\"https://colab.research.google.com/assets/colab-badge.svg\" alt=\"Open In Colab\"/></a>"
      ]
    },
    {
      "cell_type": "markdown",
      "metadata": {
        "id": "B_iAjwPm_mYg"
      },
      "source": [
        "# 데이터가 더 부족한 세상으로!\n",
        "\n",
        "[여기 참고](https://www.cs.toronto.edu/~kriz/cifar.html)"
      ]
    },
    {
      "cell_type": "code",
      "metadata": {
        "id": "CzL95VmTBHxx"
      },
      "source": [
        "# CIFAR-100\n",
        "from tensorflow.keras.datasets.cifar100 import load_data"
      ],
      "execution_count": null,
      "outputs": []
    },
    {
      "cell_type": "code",
      "metadata": {
        "id": "aPKBI9NAlkbm",
        "colab": {
          "base_uri": "https://localhost:8080/"
        },
        "outputId": "f7ae2010-5978-49ca-9317-a39a61f45da4"
      },
      "source": [
        "(x_train, y_train), (x_test, y_test) = load_data()"
      ],
      "execution_count": null,
      "outputs": [
        {
          "output_type": "stream",
          "name": "stdout",
          "text": [
            "Downloading data from https://www.cs.toronto.edu/~kriz/cifar-100-python.tar.gz\n",
            "169009152/169001437 [==============================] - 9s 0us/step\n",
            "169017344/169001437 [==============================] - 9s 0us/step\n"
          ]
        }
      ]
    },
    {
      "cell_type": "code",
      "metadata": {
        "id": "fB8FkawCmNXh"
      },
      "source": [
        "import matplotlib.pyplot as plt\n",
        "import random"
      ],
      "execution_count": null,
      "outputs": []
    },
    {
      "cell_type": "code",
      "metadata": {
        "id": "16OKRPGzmPV_",
        "colab": {
          "base_uri": "https://localhost:8080/",
          "height": 285
        },
        "outputId": "3caa2b99-402d-42c3-af58-f050c0b08dbb"
      },
      "source": [
        "### 반복실행\n",
        "idx = random.randint(0,49999)\n",
        "print(\"클래스 {}번\".format(y_train[idx]))\n",
        "plt.imshow(x_train[idx])\n",
        "plt.show()"
      ],
      "execution_count": null,
      "outputs": [
        {
          "output_type": "stream",
          "name": "stdout",
          "text": [
            "클래스 [92]번\n"
          ]
        },
        {
          "output_type": "display_data",
          "data": {
            "text/plain": [
              "<Figure size 432x288 with 1 Axes>"
            ],
            "image/png": "[encoded data removed]"
          },
          "metadata": {
            "needs_background": "light"
          }
        }
      ]
    },
    {
      "cell_type": "markdown",
      "metadata": {
        "id": "ghiwVWATe4I8"
      },
      "source": [
        "# Q1. X : min-max scaling 해보자\n",
        "\n",
        "**함수를 제작하여 사용해볼 것**"
      ]
    },
    {
      "cell_type": "code",
      "metadata": {
        "id": "cWL_no_LR3U8"
      },
      "source": [
        "###############################\n",
        "## Your code here : Function ##\n",
        "###############################\n",
        "# max_ = x_train.max()\n",
        "\n",
        "# x_train = x_train/max_\n",
        "# x_test = x_test/max_\n",
        "\n",
        "def minmax_scale(대상, max_):\n",
        "    대상 = 대상/max_\n",
        "    return 대상"
      ],
      "execution_count": null,
      "outputs": []
    },
    {
      "cell_type": "code",
      "metadata": {
        "id": "Y7dnU6PoX5UP"
      },
      "source": [
        "##############################\n",
        "## Your code here : Scaling ##\n",
        "##############################\n",
        "max_ = x_train.max()\n",
        "x_train = minmax_scale(x_train, max_)\n",
        "x_test = minmax_scale(x_test, max_)\n"
      ],
      "execution_count": null,
      "outputs": []
    },
    {
      "cell_type": "markdown",
      "metadata": {
        "id": "SyVgGB6lfCuj"
      },
      "source": [
        "# Q.2. Y : 원 핫 인코딩 해보자"
      ]
    },
    {
      "cell_type": "code",
      "source": [
        "y_train[1]"
      ],
      "metadata": {
        "colab": {
          "base_uri": "https://localhost:8080/"
        },
        "id": "fklmpyVkHBTq",
        "outputId": "45ae37c3-e051-47e6-cd17-b3fda5d067d4"
      },
      "execution_count": null,
      "outputs": [
        {
          "output_type": "execute_result",
          "data": {
            "text/plain": [
              "array([29])"
            ]
          },
          "metadata": {},
          "execution_count": 20
        }
      ]
    },
    {
      "cell_type": "code",
      "metadata": {
        "id": "ZRDNj4XUfLhm"
      },
      "source": [
        "##############################\n",
        "## Your code here : Scaling ##\n",
        "##############################\n",
        "from tensorflow.keras.utils import to_categorical\n",
        "\n",
        "y_train = to_categorical(y_train, 100)\n",
        "y_test = to_categorical(y_test,100)\n"
      ],
      "execution_count": null,
      "outputs": []
    },
    {
      "cell_type": "markdown",
      "metadata": {
        "id": "GnZHnb1uBJWj"
      },
      "source": [
        "# 모델링!\n",
        "\n",
        "Sequential, 모든 activation은 'swish'\n",
        "\n",
        "**모델구조.**\n",
        "\n",
        "1. 인풋레이어\n",
        "\n",
        "\n",
        "2. Convolution : 필터수 32개, 사이즈(3, 3), same padding\n",
        "3. BatchNormalization\n",
        "2. Convolution : 필터수 32개, 사이즈(3, 3), same padding\n",
        "3. BatchNormalization\n",
        "4. MaxPooling : 사이즈(2,2) 스트라이드(2,2)\n",
        "5. DropOut : 20% 비활성화\n",
        "\n",
        "\n",
        "8. Convolution : 필터수 64개, 사이즈(3, 3), same padding\n",
        "3. BatchNormalization\n",
        "2. Convolution : 필터수 64개, 사이즈(3, 3), same padding\n",
        "3. BatchNormalization\n",
        "4. MaxPooling : 사이즈(2,2) 스트라이드(2,2)\n",
        "5. DropOut : 30% 비활성화\n",
        "\n",
        "\n",
        "14. Convolution : 필터수 96개, 사이즈(3, 3), same padding\n",
        "3. BatchNormalization\n",
        "2. Convolution : 필터수 96개, 사이즈(3, 3), same padding\n",
        "3. BatchNormalization\n",
        "4. MaxPooling : 사이즈(2,2) 스트라이드(2,2)\n",
        "5. DropOut : 40% 비활성화\n",
        "\n",
        "\n",
        "20. Convolution : 필터수 128개, 사이즈(3, 3), same padding\n",
        "3. BatchNormalization\n",
        "2. Convolution : 필터수 128개, 사이즈(3, 3), same padding\n",
        "3. BatchNormalization\n",
        "4. MaxPooling : 사이즈(2,2) 스트라이드(2,2)\n",
        "5. DropOut : 40% 비활성화\n",
        "\n",
        "\n",
        "26. Flatten()\n",
        "9. 아웃풋레이어"
      ]
    },
    {
      "cell_type": "code",
      "source": [
        "from tensorflow import keras\n",
        "from keras.layers import Input, Conv2D, MaxPool2D, Flatten, Dense, BatchNormalization, Dropout, MaxPool2D\n",
        "from keras.models import Sequential"
      ],
      "metadata": {
        "id": "AxkoOgEmH8zE"
      },
      "execution_count": null,
      "outputs": []
    },
    {
      "cell_type": "code",
      "metadata": {
        "id": "0u6DcA90T8z3",
        "colab": {
          "base_uri": "https://localhost:8080/"
        },
        "outputId": "012ce29f-65c1-482f-a4fa-a102389d4802"
      },
      "source": [
        "from keras.layers.normalization.batch_normalization_v1 import BatchNormalization\n",
        "####################\n",
        "## Your code here ## \n",
        "####################\n",
        "keras.backend.clear_session()\n",
        "\n",
        "model = Sequential()\n",
        "model.add(Input(shape=x_train.shape[1:]))\n",
        "model.add(Conv2D(32, (3,3), padding='same', activation='swish'))\n",
        "model.add(BatchNormalization())\n",
        "model.add(Conv2D(32, (3,3), padding='same', activation='swish'))\n",
        "model.add(BatchNormalization())\n",
        "model.add(MaxPool2D((2,2),(2,2)))\n",
        "model.add(Dropout(0.2))\n",
        "\n",
        "model.add(Conv2D(64, (3,3), padding='same', activation='swish'))\n",
        "model.add(BatchNormalization())\n",
        "model.add(Conv2D(64, (3,3), padding='same', activation='swish'))\n",
        "model.add(BatchNormalization())\n",
        "model.add(MaxPool2D((2,2),(2,2)))\n",
        "model.add(Dropout(0.3))\n",
        "\n",
        "model.add(Conv2D(96, (3,3), padding='same', activation='swish'))\n",
        "model.add(BatchNormalization())\n",
        "model.add(Conv2D(96, (3,3), padding='same', activation='swish'))\n",
        "model.add(BatchNormalization())\n",
        "model.add(MaxPool2D((2,2),(2,2)))\n",
        "model.add(Dropout(0.4))\n",
        "\n",
        "model.add(Conv2D(128, (3,3), padding='same', activation='swish'))\n",
        "model.add(BatchNormalization())\n",
        "model.add(Conv2D(128, (3,3), padding='same', activation='swish'))\n",
        "model.add(BatchNormalization())\n",
        "model.add(MaxPool2D((2,2),(2,2)))\n",
        "model.add(Dropout(0.4))\n",
        "\n",
        "model.add(Flatten())\n",
        "model.add(Dense(100, activation='softmax'))\n",
        "\n",
        "model.compile(loss = 'categorical_crossentropy',\n",
        "              optimizer='adam',\n",
        "              metrics=['accuracy'])\n",
        "\n",
        "model.summary()\n",
        "\n",
        "\n",
        "\n"
      ],
      "execution_count": null,
      "outputs": [
        {
          "output_type": "stream",
          "name": "stdout",
          "text": [
            "Model: \"sequential\"\n",
            "_________________________________________________________________\n",
            " Layer (type)                Output Shape              Param #   \n",
            "=================================================================\n",
            " conv2d (Conv2D)             (None, 32, 32, 32)        896       \n",
            "                                                                 \n",
            " batch_normalization (BatchN  (None, 32, 32, 32)       128       \n",
            " ormalization)                                                   \n",
            "                                                                 \n",
            " conv2d_1 (Conv2D)           (None, 32, 32, 32)        9248      \n",
            "                                                                 \n",
            " batch_normalization_1 (Batc  (None, 32, 32, 32)       128       \n",
            " hNormalization)                                                 \n",
            "                                                                 \n",
            " max_pooling2d (MaxPooling2D  (None, 16, 16, 32)       0         \n",
            " )                                                               \n",
            "                                                                 \n",
            " dropout (Dropout)           (None, 16, 16, 32)        0         \n",
            "                                                                 \n",
            " conv2d_2 (Conv2D)           (None, 16, 16, 64)        18496     \n",
            "                                                                 \n",
            " batch_normalization_2 (Batc  (None, 16, 16, 64)       256       \n",
            " hNormalization)                                                 \n",
            "                                                                 \n",
            " conv2d_3 (Conv2D)           (None, 16, 16, 64)        36928     \n",
            "                                                                 \n",
            " batch_normalization_3 (Batc  (None, 16, 16, 64)       256       \n",
            " hNormalization)                                                 \n",
            "                                                                 \n",
            " max_pooling2d_1 (MaxPooling  (None, 8, 8, 64)         0         \n",
            " 2D)                                                             \n",
            "                                                                 \n",
            " dropout_1 (Dropout)         (None, 8, 8, 64)          0         \n",
            "                                                                 \n",
            " conv2d_4 (Conv2D)           (None, 8, 8, 96)          55392     \n",
            "                                                                 \n",
            " batch_normalization_4 (Batc  (None, 8, 8, 96)         384       \n",
            " hNormalization)                                                 \n",
            "                                                                 \n",
            " conv2d_5 (Conv2D)           (None, 8, 8, 96)          83040     \n",
            "                                                                 \n",
            " batch_normalization_5 (Batc  (None, 8, 8, 96)         384       \n",
            " hNormalization)                                                 \n",
            "                                                                 \n",
            " max_pooling2d_2 (MaxPooling  (None, 4, 4, 96)         0         \n",
            " 2D)                                                             \n",
            "                                                                 \n",
            " dropout_2 (Dropout)         (None, 4, 4, 96)          0         \n",
            "                                                                 \n",
            " conv2d_6 (Conv2D)           (None, 4, 4, 128)         110720    \n",
            "                                                                 \n",
            " batch_normalization_6 (Batc  (None, 4, 4, 128)        512       \n",
            " hNormalization)                                                 \n",
            "                                                                 \n",
            " conv2d_7 (Conv2D)           (None, 4, 4, 128)         147584    \n",
            "                                                                 \n",
            " batch_normalization_7 (Batc  (None, 4, 4, 128)        512       \n",
            " hNormalization)                                                 \n",
            "                                                                 \n",
            " max_pooling2d_3 (MaxPooling  (None, 2, 2, 128)        0         \n",
            " 2D)                                                             \n",
            "                                                                 \n",
            " dropout_3 (Dropout)         (None, 2, 2, 128)         0         \n",
            "                                                                 \n",
            " flatten (Flatten)           (None, 512)               0         \n",
            "                                                                 \n",
            " dense (Dense)               (None, 100)               51300     \n",
            "                                                                 \n",
            "=================================================================\n",
            "Total params: 516,164\n",
            "Trainable params: 514,884\n",
            "Non-trainable params: 1,280\n",
            "_________________________________________________________________\n"
          ]
        }
      ]
    },
    {
      "cell_type": "markdown",
      "metadata": {
        "id": "fsbeDi79gj9-"
      },
      "source": [
        "# 데이터 Augmentation\n",
        "\n",
        "1. 회전 : 30도\n",
        "2. shifting : 20%\n",
        "3. 줌 : 30%\n",
        "4. 플립 : True"
      ]
    },
    {
      "cell_type": "code",
      "metadata": {
        "id": "z-ysSY2XC6zD",
        "colab": {
          "base_uri": "https://localhost:8080/"
        },
        "outputId": "58ed9d44-a7ad-4bfb-f9ee-9c7147297b72"
      },
      "source": [
        "####################\n",
        "## Your code here ## \n",
        "####################\n",
        "\n",
        "# 1번. 데이터 제너레이터 가져오기\n",
        "from keras.preprocessing.image import ImageDataGenerator\n",
        "\n",
        "# 2번. 오그멘테이션 규칙 지정 & 선언\n",
        "datagen = ImageDataGenerator(\n",
        "          featurewise_center=False,\n",
        "          samplewise_center=False,\n",
        "          featurewise_std_normalization=False,\n",
        "          samplewise_std_normalization=False,\n",
        "          zca_whitening=True,\n",
        "          rotation_range=30,\n",
        "          zoom_range = 0.3,\n",
        "          width_shift_range=0.2,\n",
        "          height_shift_range=0.2,\n",
        "          horizontal_flip=True,\n",
        "          vertical_flip=True)\n",
        "\n",
        "# 3번. 규칙을 찾을 소스를 지정해줌\n",
        "datagen.fit(x_train)\n",
        "\n",
        "# 4번. 실시간 데이터 오그멘테이션을 위한 설정 & 선언\n",
        "train_gen = datagen.flow(x_train, y_train, batch_size=128)"
      ],
      "execution_count": null,
      "outputs": [
        {
          "output_type": "stream",
          "name": "stderr",
          "text": [
            "/usr/local/lib/python3.7/dist-packages/keras_preprocessing/image/image_data_generator.py:337: UserWarning: This ImageDataGenerator specifies `zca_whitening`, which overrides setting of `featurewise_center`.\n",
            "  warnings.warn('This ImageDataGenerator specifies '\n"
          ]
        }
      ]
    },
    {
      "cell_type": "markdown",
      "metadata": {
        "id": "k5Vd5BtJjgB1"
      },
      "source": [
        "# 얼리 스토핑을 이용한 학습.\n",
        "\n",
        "1. Early Stopping\n",
        "    * validation loss를 모니터링 할 것\n",
        "    * 8번 안에 개선이 없다면 멈출 것\n",
        "    * 성능이 유지만 되어도 개선되었다고 정의\n",
        "    * verbose 1\n",
        "    * 학습 멈춘 후, 가장 성능 좋았을 때 가중치 복구\n",
        "1. epochs는 10000\n",
        "2. batch_size는 64 ( augmentation )\n",
        "3. 벨리데이션셋에는 트레이닝셋 원본"
      ]
    },
    {
      "cell_type": "code",
      "metadata": {
        "id": "RXvQMLmckvaO",
        "colab": {
          "base_uri": "https://localhost:8080/"
        },
        "outputId": "ed02616c-83ac-4105-8be2-303eb56616e6"
      },
      "source": [
        "####################\n",
        "## Your code here ## \n",
        "####################\n",
        "\n",
        "from tensorflow.keras.callbacks import EarlyStopping\n",
        "\n",
        "es = EarlyStopping(monitor='val_loss',\n",
        "                   min_delta=0,\n",
        "                   patience=8, verbose=1, restore_best_weights=True)\n",
        "\n",
        "model.fit(train_gen, epochs = 100000,\n",
        "          validation_data=(x_train, y_train), verbose = 1, callbacks=[es], batch_size=64)"
      ],
      "execution_count": null,
      "outputs": [
        {
          "output_type": "stream",
          "name": "stdout",
          "text": [
            "Epoch 1/100000\n",
            "391/391 [==============================] - 187s 450ms/step - loss: 4.8683 - accuracy: 0.0309 - val_loss: 10.4273 - val_accuracy: 0.0068\n",
            "Epoch 2/100000\n",
            "391/391 [==============================] - 155s 396ms/step - loss: 4.2562 - accuracy: 0.0773 - val_loss: 5.9433 - val_accuracy: 0.0130\n",
            "Epoch 3/100000\n",
            "391/391 [==============================] - 158s 404ms/step - loss: 3.9304 - accuracy: 0.1163 - val_loss: 6.7045 - val_accuracy: 0.0158\n",
            "Epoch 4/100000\n",
            "391/391 [==============================] - 161s 411ms/step - loss: 3.7415 - accuracy: 0.1432 - val_loss: 7.2810 - val_accuracy: 0.0147\n",
            "Epoch 5/100000\n",
            "391/391 [==============================] - 160s 409ms/step - loss: 3.5661 - accuracy: 0.1656 - val_loss: 8.0005 - val_accuracy: 0.0141\n",
            "Epoch 6/100000\n",
            "391/391 [==============================] - 162s 413ms/step - loss: 3.4301 - accuracy: 0.1867 - val_loss: 7.4144 - val_accuracy: 0.0102\n",
            "Epoch 7/100000\n",
            "391/391 [==============================] - 159s 407ms/step - loss: 3.3032 - accuracy: 0.2060 - val_loss: 7.7700 - val_accuracy: 0.0103\n",
            "Epoch 8/100000\n",
            "391/391 [==============================] - 156s 398ms/step - loss: 3.2020 - accuracy: 0.2176 - val_loss: 7.1132 - val_accuracy: 0.0113\n",
            "Epoch 9/100000\n",
            "391/391 [==============================] - 155s 397ms/step - loss: 3.1197 - accuracy: 0.2345 - val_loss: 6.8662 - val_accuracy: 0.0106\n",
            "Epoch 10/100000\n",
            "391/391 [==============================] - ETA: 0s - loss: 3.0379 - accuracy: 0.2463Restoring model weights from the end of the best epoch: 2.\n",
            "391/391 [==============================] - 154s 393ms/step - loss: 3.0379 - accuracy: 0.2463 - val_loss: 7.2603 - val_accuracy: 0.0105\n",
            "Epoch 10: early stopping\n"
          ]
        },
        {
          "output_type": "execute_result",
          "data": {
            "text/plain": [
              "<keras.callbacks.History at 0x7f975ad11310>"
            ]
          },
          "metadata": {},
          "execution_count": 35
        }
      ]
    }
  ]
}