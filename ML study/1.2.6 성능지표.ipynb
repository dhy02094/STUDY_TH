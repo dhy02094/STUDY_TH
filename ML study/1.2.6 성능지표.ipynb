{
 "cells": [
  {
   "cell_type": "markdown",
   "id": "13338000",
   "metadata": {},
   "source": [
    "# 1.2.6 성능지표\n",
    "\n",
    "성능 지표 : 학습이 완료된 모델의 성능을 평가하고자 검증 및 테스트 데이터로 측정하고 모니터링 하는 수단.\n",
    "\n",
    "참고로... 학교에서 교수님이 설명도 해주시고 adsp 공부할때도 달달 외웠는데... 면접가서 제대로 대답하지 못해서 머리에 깊게 박힌 개념이다.\n",
    "\n",
    "- 회귀\n",
    "    - MSE\n",
    "    \n",
    "    $$MSE = \\frac{1}{n}\\sum_{i=1}^n(y_i - \\hat{y}_i)^2$$\n",
    "    \n",
    "    - MAPE\n",
    "        - 실제값 대비 오차의 정도를 퍼센트 값으로 나타내기 때문에 출력값의 단위에 영향을 받지않는다.\n",
    "    \n",
    "    $$MAPE = \\frac{1}{n}\\sum_{i=1}^n \\frac{|y_i - \\hat{y}_i|}{y_i} X100$$\n",
    "    \n",
    "- 분류\n",
    "\n",
    "![https://miro.medium.com/max/1000/1*fxiTNIgOyvAombPJx5KGeA.png](https://miro.medium.com/max/1000/1*fxiTNIgOyvAombPJx5KGeA.png)\n",
    "\n",
    "위 그림이 전부다 꼭 외우자. True, Predicted\n",
    "\n",
    "- 정확도(ACC) : 전체 데이터 중 모델이 올바르게 분류한 비율\n",
    "\n",
    "$$정확도 = \\frac{TP + TN}{TP + FN + FP + TN}$$\n",
    "\n",
    "- 정밀도(precision) : 예측값이 P 중 실제값이 T인것\n",
    "\n",
    "$$정밀도 = \\frac{TP}{TP + FP}$$\n",
    "\n",
    "- 재현도(Recall) : 실제값이 T인 것중 예측값이 P인것\n",
    "\n",
    "$$재현도 = \\frac{TP}{TP + FN}$$\n",
    "\n",
    "- F1 Score : 정밀도와 재현도의 조화 평균\n",
    "\n",
    "$$ F1 score = \\frac{2 X Precision X Recall}{Precision + Recall}  $$"
   ]
  }
 ],
 "metadata": {
  "kernelspec": {
   "display_name": "Python 3 (ipykernel)",
   "language": "python",
   "name": "python3"
  },
  "language_info": {
   "codemirror_mode": {
    "name": "ipython",
    "version": 3
   },
   "file_extension": ".py",
   "mimetype": "text/x-python",
   "name": "python",
   "nbconvert_exporter": "python",
   "pygments_lexer": "ipython3",
   "version": "3.8.12"
  }
 },
 "nbformat": 4,
 "nbformat_minor": 5
}
