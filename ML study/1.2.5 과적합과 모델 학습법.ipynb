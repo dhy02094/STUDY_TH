{
 "cells": [
  {
   "cell_type": "markdown",
   "id": "7b93fe47",
   "metadata": {},
   "source": [
    "# 1.2.5 과적합과 모델 학습법\n",
    "\n",
    "## 과적합을 조심해야 하는 이유\n",
    "\n",
    "과적합 : 갖고 있는 트레인 데이터를 과하게 학습시켜 트레인 데이터에서는 성능이 좋지만, 테스트 데이터에서 성능이 떨어지는 경우\n",
    "\n",
    "과적합이 발생하는 이유 \n",
    "\n",
    "1. 데이터 수가 적어서\n",
    "2. 입력 변수의 개수가 많은 경우\n",
    "3. 복잡한 모델을 사용한 경우\n",
    "\n",
    "![https://user-images.githubusercontent.com/45377884/90508764-3c84ce00-e193-11ea-8350-9307399adaa4.png](https://user-images.githubusercontent.com/45377884/90508764-3c84ce00-e193-11ea-8350-9307399adaa4.png)\n",
    "\n",
    "우리가 사용한 모형이 과소적합인지 과대적합인지 판단하기는 어렵다.\n",
    "\n",
    "따라서 우리는 학습, 검증, 평가 세 부분으로 나눠서 테스트한다\n",
    "\n",
    "- Train : 모델을 학습시키기 위한 데이터\n",
    "- Validation: 모델의 성능을 조정하기 위한 용도로 과적합 판단을 하거나 HyperParameter를 선택하기 위한 데이터\n",
    "- Test : 최종적으로 결정된 모델의 성능을 측정하는 데이터.\n",
    "\n",
    "그냥 나중에 loss 값을 확인할 때 밑에 그림에서처럼 적절한 값 찾아주면 된다.\n",
    "\n",
    "[https://encrypted-tbn0.gstatic.com/images?q=tbn:ANd9GcQJo_BKmazScjXhO4xY-J-XdfEVA6YPIlo3zrTCUxZmDj8N5OBbSeL0QLoIKCbWKb5HvEg&usqp=CAU](https://encrypted-tbn0.gstatic.com/images?q=tbn:ANd9GcQJo_BKmazScjXhO4xY-J-XdfEVA6YPIlo3zrTCUxZmDj8N5OBbSeL0QLoIKCbWKb5HvEg&usqp=CAU)"
   ]
  },
  {
   "cell_type": "code",
   "execution_count": null,
   "id": "280b02d8",
   "metadata": {},
   "outputs": [],
   "source": []
  }
 ],
 "metadata": {
  "kernelspec": {
   "display_name": "Python 3 (ipykernel)",
   "language": "python",
   "name": "python3"
  },
  "language_info": {
   "codemirror_mode": {
    "name": "ipython",
    "version": 3
   },
   "file_extension": ".py",
   "mimetype": "text/x-python",
   "name": "python",
   "nbconvert_exporter": "python",
   "pygments_lexer": "ipython3",
   "version": "3.8.12"
  }
 },
 "nbformat": 4,
 "nbformat_minor": 5
}
