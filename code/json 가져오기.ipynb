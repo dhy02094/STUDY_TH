{
 "cells": [
  {
   "cell_type": "code",
   "execution_count": 3,
   "id": "be72f177",
   "metadata": {},
   "outputs": [],
   "source": [
    "import requests\n",
    "import json"
   ]
  },
  {
   "cell_type": "markdown",
   "id": "e1d3b822",
   "metadata": {},
   "source": [
    "# api 받아오기"
   ]
  },
  {
   "cell_type": "code",
   "execution_count": 15,
   "id": "bc5d6a39",
   "metadata": {},
   "outputs": [
    {
     "data": {
      "text/plain": [
       "{'id': '19837479983',\n",
       " 'type': 'PushEvent',\n",
       " 'actor': {'id': 79827734,\n",
       "  'login': 'dhy02094',\n",
       "  'display_login': 'dhy02094',\n",
       "  'gravatar_id': '',\n",
       "  'url': 'https://api.github.com/users/dhy02094',\n",
       "  'avatar_url': 'https://avatars.githubusercontent.com/u/79827734?'},\n",
       " 'repo': {'id': 449590966,\n",
       "  'name': 'cmc9595/Aivler-Ranking-System',\n",
       "  'url': 'https://api.github.com/repos/cmc9595/Aivler-Ranking-System'},\n",
       " 'payload': {'push_id': 8890077101,\n",
       "  'size': 1,\n",
       "  'distinct_size': 1,\n",
       "  'ref': 'refs/heads/main',\n",
       "  'head': 'f823f1086cc8f8d92dd99d8ffb32afa25b75f13d',\n",
       "  'before': 'b18a637721280f20b723c56429ee09d312ae45fc',\n",
       "  'commits': [{'sha': 'f823f1086cc8f8d92dd99d8ffb32afa25b75f13d',\n",
       "    'author': {'email': 'dhy02074@naver.com', 'name': 'dhy02094'},\n",
       "    'message': 'th',\n",
       "    'distinct': True,\n",
       "    'url': 'https://api.github.com/repos/cmc9595/Aivler-Ranking-System/commits/f823f1086cc8f8d92dd99d8ffb32afa25b75f13d'}]},\n",
       " 'public': True,\n",
       " 'created_at': '2022-01-20T17:45:36Z'}"
      ]
     },
     "execution_count": 15,
     "metadata": {},
     "output_type": "execute_result"
    }
   ],
   "source": [
    "url = f'https://api.github.com/users/dhy02094/events'\n",
    "response = requests.get(url).json()\n",
    "response[0]"
   ]
  },
  {
   "cell_type": "markdown",
   "id": "46eef653",
   "metadata": {},
   "source": [
    "## 정렬"
   ]
  },
  {
   "cell_type": "code",
   "execution_count": 16,
   "id": "857dcea9",
   "metadata": {},
   "outputs": [],
   "source": [
    "def rankByDate(option):\n",
    "    today = datetime.today()\n",
    "    if option=='day':\n",
    "        diff = timedelta(days=1)\n",
    "    elif option=='week':\n",
    "        diff = timedelta(days=today.weekday())\n",
    "    elif option=='month':\n",
    "        diff = timedelta(days=today.day)\n",
    "    target = str(today - diff).split()[0]\n",
    "    \n",
    "    commitList = Commit.objects.filter(time__gte=target)\n",
    "    dic = {}\n",
    "    for i in commitList:\n",
    "        dic[i.userid] = dic.get(i.userid, 0) + 1\n",
    "    return sorted(dic.items(), key=lambda x:x[1], reverse=True)\n"
   ]
  },
  {
   "cell_type": "code",
   "execution_count": null,
   "id": "e96970c0",
   "metadata": {},
   "outputs": [],
   "source": []
  }
 ],
 "metadata": {
  "kernelspec": {
   "display_name": "Python 3 (ipykernel)",
   "language": "python",
   "name": "python3"
  },
  "language_info": {
   "codemirror_mode": {
    "name": "ipython",
    "version": 3
   },
   "file_extension": ".py",
   "mimetype": "text/x-python",
   "name": "python",
   "nbconvert_exporter": "python",
   "pygments_lexer": "ipython3",
   "version": "3.8.12"
  }
 },
 "nbformat": 4,
 "nbformat_minor": 5
}
