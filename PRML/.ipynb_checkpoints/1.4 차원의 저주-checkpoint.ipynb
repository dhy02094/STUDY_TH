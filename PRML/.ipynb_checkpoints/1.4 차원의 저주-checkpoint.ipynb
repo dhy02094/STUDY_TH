{
 "cells": [
  {
   "cell_type": "markdown",
   "id": "ba65b115",
   "metadata": {},
   "source": [
    "# 0. opening\n",
    "- 말로만 듣던 차원의 저주다.\n",
    "- 실제로 치아 이상탐지 이미지 프로젝트를 처음 하면서 아니 이거 차원을 2차원으로 못 가져오나였다.\n",
    "- 너무 높은 차원은 실제로 사용하기도 힘들고 우리가 이해하기도 힘들다.\n",
    "- 무슨 말을 하는지 차원의 저주가 뭔지 알아보자\n",
    "\n",
    "# 1. 차원의 저주\n",
    "- 앞에서 살핀 다항식 곡선 피팅은 입력 변수가 x하나였다. 즉 1차원이였다. (아니 그런데도 개어렵던데?)\n",
    "- 하지만 현실은 ㅋㅋㅋ.. 말을 아끼겠다.\n",
    "- <img src = \"http://norman3.github.io/prml/images/Figure1.19.png\" width=300 height = 300>\n",
    "    - 다음은 입력 변수 $x_6$, $x_7$을 표시했다. \n",
    "    - 그래프상에 x로 표시되어 있는 새로운 시험 포인트의 클래스가 파란색인지 빨강색인지 초록색인지 찾는것이 우리의 목표다.\n",
    "- 가장 단순한 접근법은 다음 그림에서 처럼 입력 공간을 같은 크기의 여러 칸들로 나누는 것이다.\n",
    "- <img src = \"http://norman3.github.io/prml/images/Figure1.20.png\" width=300 height=300>\n",
    "- 이렇게 하면 x는 빨간색 범위에 있으니까 빨간색으로 보면 아주 편하겠다!\n",
    "- 하지만 이런 접근에는 당연히 여러 문제가 있다.\n",
    "    - 입력 변수가 더 많은 경우를 고려할 때 나타난다.\n",
    "        -  <img src = \"http://norman3.github.io/prml/images/Figure1.21b.png\" width=100 height=100>\n",
    "        -  <img src = \"http://norman3.github.io/prml/images/Figure1.21c.png\" width=100 height=100> \n",
    "        - 공간을 단위 크기의 칸으로 나눌 때, 공간의 차원이 높아질수록 필요한 칸의 숫자가 기하급수적으로 늘어난다.\n",
    "        - 그렇다면 또 각 칸이 비어있지 않도록 그만큼 많은 수의 훈련 데이터가 필요하다.\n",
    "    - 판별 함수를 생각하자.\n",
    "        - $ y(x,w) = w_0 + \\sum_{i=1}^D w_ix_i + \\sum_{i=1}^D\\sum_{j=1}^Dw_{ij}x_ix_j + \\sum_{i=1}^D\\sum_{j=1}^D\\sum_{k=1}^Dw_{ijk}x_ix_jx_k$ (1.74)\n",
    "        \n",
    "    - D가 증가함에 따라 독립계수의 숫자는 $D^3$에 비례하여 증가한다.\n",
    "    \n",
    "- 위 내용을 기하학적인 관점에서 보자\n",
    "- D차원의 반지름 r=1 구체를 고려해보자\n",
    "- r = 1 - $\\epsilon$ ~ r = 1 사이에 존재하는 부피의 비율을 계산해보자\n",
    "- D차원의 구의 부피는 $V_D(r) = K_Dr^D$\n",
    "- 따라서 그 사이에 부피의 비율은 $\\frac{V_D(1) - V_D(1 - \\epsilon)}{V_D(1)} = 1 - (1 - \\epsilon)^D$\n",
    "- 여기서 $\\epsilon$값은 매우 작은 값이고 고차원의 공간에서는 구체 부피의 대부분이 표면 근처의 얇은 껍질에 집중되어 있다는 것을 알 수 있다.\n",
    "- $\\epsilon$값이 변할 수록 원래 부피와의 비율은 다음과 같다\n",
    "- <img src = \"http://norman3.github.io/prml/images/Figure1.22.png\" width=300 height=300>\n",
    "- D가 커질수록 $\\epsilon$ 이 작더라도 원래 부피 크기와 근접함을 알 수 있다.\n",
    "- 즉 차원이 증가할수록 전체 부피크기의 대부분은 표면에 위치한다.\n",
    "- 이를 가우시안 분포로 살피자\n",
    "- <img src = \"http://norman3.github.io/prml/images/Figure1.23.png\" width=300 height=300>\n",
    "- D차원을 가진 x가 있다고 가정하자. 이것은 원점에서 거리 r 만큼 떨어져있다.\n",
    "- 이걸 하나의 차원으로 축소한다. \n",
    "- 가우시안 분포를 따라서 샘플을 랜덤하게 생성한다.\n",
    "- x가 원래 가지고 있던 차원을 증가하면서 랜덤하게 생성해본다.\n",
    "- 그리고 실제 데이터가 어느거리에 많이 있는지 본다.\n",
    "- 차원이 커질수록 반지름 r의 위치에 데이터의 분포가 집중이 됨을 알수있다. \n",
    "- 즉 차원이 증가할수록 전체 부피 중 표면 쪽의 부피 비율이 증가하기 때문에 실제 샘플이 등장할 비율도 표면에 가까워지도록 변화한다.\n",
    "- 이렇게 저차원에서 얻은 결과와 고차원에서 결과는 다르다는 것이 바로 차원의 저주이다!\n",
    "\n"
   ]
  }
 ],
 "metadata": {
  "kernelspec": {
   "display_name": "Python 3 (ipykernel)",
   "language": "python",
   "name": "python3"
  },
  "language_info": {
   "codemirror_mode": {
    "name": "ipython",
    "version": 3
   },
   "file_extension": ".py",
   "mimetype": "text/x-python",
   "name": "python",
   "nbconvert_exporter": "python",
   "pygments_lexer": "ipython3",
   "version": "3.8.12"
  }
 },
 "nbformat": 4,
 "nbformat_minor": 5
}
