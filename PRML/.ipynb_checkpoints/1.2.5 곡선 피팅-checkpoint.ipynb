{
 "cells": [
  {
   "cell_type": "markdown",
   "id": "acdef822",
   "metadata": {},
   "source": [
    "# 0\n",
    "- 앞에서는 다항식 곡선 피팅 문제를 오차 최소화의 측면에서 살폈다\n",
    "- 이제는 확률적 측면에서 살펴보면서 오차 함수와 정규화에 대한 통찰을 얻어보자.\n",
    "- 이것은 베이지안 해결법을 도출하는데 큰 도움이 될 것.\n",
    "\n",
    "# 1 곡선 피팅 문제\n",
    "- 목표 : N개의 입력값 $\\mathrm{x} = (x_1,,,x_N)^T$ 과 해당 표적값 t = $(t_1,,,t_N)^T$가 주어진 상황에서 \n",
    "- 새로운 입력 변수 x가 주어졌을때 그에 맞는 t를 예측하는 것\n",
    "- 확률로 이를 이해해보자.\n",
    "- <img src = \"http://norman3.github.io/prml/images/Figure1.16.png\" width = 300 height = 300>\n",
    "- 주어진 x값에 대한 t 값이 y(x,w)를 평균으로 가지는 **가우시안 분포**를 가진다고 가정\n",
    "    - $p(t|x, w, \\beta) = \\mathcal{N}(t|y(x,w), \\beta^{-1})$\n",
    "        - $\\beta$는 표본의 역수로서 정확도이다.\n",
    "        - $\\beta^{-1} = \\sigma^2$\n",
    "    - 최대 가능도 방법을 이용해서 알려지지 않은 매개변수 w와 $\\beta$를 구하자.\n",
    "        - $p(t|x, w, \\beta) = \\prod_{n=1}^N \\mathcal{N}(t_n|y(x_n,w),\\beta^{-1})$\n",
    "    - 로그를 취해서 그 최댓값을 편리하게 구해보자.\n",
    "        - $lnp(t|x, w, \\beta) = -\\frac{\\beta}{2}\\sum_{n=1}^N(y(x_n,w) - t_n)^2 + \\frac{N}{2}ln\\beta - \\frac{N}{2}ln(2\\pi)$\n",
    "        \n",
    "    - 다항식 계수의 최대가능도 해($w_{ML}$)을 구하자.\n",
    "        1. 뒤에 두 항은 w와 관련이 없으므로 제외\n",
    "        2. 로그 가능도에 양의 상수를 곱해도 w에 최댓값의 위치는 변하지 않으므로 $\\beta$=1 로 바꿔도 무관하다.\n",
    "        3. 로그 가능도를 최대화 하기 보단 로그 가능도의 음의 값을 취한 후, 이를 최소화할 수 있따.\n",
    "        4. 즉 제곱합 오차함수를 최소화 하는 것과 같다.\n",
    "    - $\\beta$에 대해 최대화 하면 다음의 식이 도출된다.\n",
    "        - $\\frac{1}{\\beta_{ML}} = \\frac{1}{N} \\sum_{n=1}^N (y(x_n,w_{ML}) - t_n)^2$\n",
    "        \n",
    "- 이렇게 얻은 w와 $\\beta$를 이용해서 새로운 변수 x에 대해 예측값을 구할 수 있다.\n",
    "- 확률 모델을 사용하고 있으므로 점 추정값이 아닌 예측 분포로 표현가능하다.\n",
    "    - $p(t|x, w_{ML}, \\beta{ML}) = \\mathcal{N}(t|y(x,w_{ML}), \\beta_{ML}^{-1})$\n",
    "\n",
    "    - 베이지안 방식을 향해 한 걸음만 더 가보자\n",
    "    - 다항 계수 w에 대한 사전 분포를 도입\n",
    "        - $p(w|\\alpha) = \\mathcal{N}(w|0,\\alpha^{-1}I) = (\\frac{\\alpha}{2\\pi})^{(M+1)/2} exp(-\\frac{\\alpha}{2}w^Tw)$\n",
    "        - $\\alpha$ : 분포의 정밀도\n",
    "        - M + 1 : M차수 다항식 벡터 w의 원소의 개수 \n",
    "        - $\\alpha$ 와 같은 모델 매개변수의 분포를 제어하는 변수들을 **하이퍼 파라미터** 라고 한다.\n",
    "        - 베이즈 룰을 이용해서 $p(w|x,t,\\alpha,\\beta) \\propto p(t|x,w,\\beta)p(w|\\alpha)$\n",
    "        - 이제 주어진 데이터에 대해 가장 가능성 높은 w를 찾는 방식으로 w를 결정 할 수 있다.\n",
    "        - 위 테크닉을 최대 사후분포(MAP)라고 한다.\n",
    "        - 위 식에 음의 로그를 취한것과 여러가지를 이용하면\n",
    "        - $\\frac{\\beta}{2}\\sum_{n=1}^N(y(x_n,w - t_n))^2 + \\frac{\\alpha}{2}w^Tw$\n",
    "        - 앞에서 다른 sse function과 식이 비슷하다.\n",
    "        - 식 1.4에서 $\\lambda = \\alpha/\\beta$를 넣어주면 다음 식과 동일하다.\n",
    "        \n"
   ]
  },
  {
   "cell_type": "code",
   "execution_count": null,
   "id": "9254bf8e",
   "metadata": {},
   "outputs": [],
   "source": []
  }
 ],
 "metadata": {
  "kernelspec": {
   "display_name": "Python 3 (ipykernel)",
   "language": "python",
   "name": "python3"
  },
  "language_info": {
   "codemirror_mode": {
    "name": "ipython",
    "version": 3
   },
   "file_extension": ".py",
   "mimetype": "text/x-python",
   "name": "python",
   "nbconvert_exporter": "python",
   "pygments_lexer": "ipython3",
   "version": "3.8.12"
  }
 },
 "nbformat": 4,
 "nbformat_minor": 5
}
