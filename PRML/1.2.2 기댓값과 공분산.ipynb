{
 "cells": [
  {
   "cell_type": "markdown",
   "id": "cea5a33f",
   "metadata": {},
   "source": [
    "# 기댓값(expectation)\n",
    "- 확률 밀도 p(x)하에서 어떤 f(x)의 평균값은 f(x)의 기댓값이라 하며 $E[f]$로 적는다.\n",
    "    - $E[f] = \\sum_x p(x)f(x)$\n",
    "- 각 x값에 대해 해당 확률을 가중치로 사용한 가중 평균을 구하는 것\n",
    "    - 연속변수의 경우 $E[f]=\\int p(x)f(x)dx$로 기댓값\n",
    "- 유한한 N개의 포인트를 확률 분포 또는 확률 밀도에서 추출했다면, 이산/연속 모든 경우에 각 포인트들의 휴한한 합산으로 기댓값을 근사\n",
    "    - $E[f] \\simeq \\frac{1}{N}\\sum_{n=1}^N f(x_n)$\n",
    "- 다변수 함수 $E_x[f(x,y)]$의 기댓값은 $f(x,y)$의 평균값을 x의 분포에 대해 구하라는 의미\n",
    "    - 조건부 기댓값 : $E_x[f|y] = \\sum_x p(x|y)f(x)$\n",
    "    \n",
    "# 분산\n",
    "$var[f] = E[f(x)-E[f(x)]^2]$\n",
    "$var[f] = E[f(x)^2] - E[f(x)]^2$\n",
    "\n",
    "# 공분산\n",
    "- x값과 y값이 얼마나 함께 같이 변동하는가에 대한 지표\n",
    "    - $cov[x,y] = E_{x,y}[(x - E[x])(y - e[y])] = E_{x,y}[xy] - E[x]E[y]$\n",
    "- 두 확률 변수 x와 y 가 벡터일 경우에 공분산은 행렬이 된다.\n",
    "    - $cov[x,y] = E_{x,y}[(x - E[x])(y^T - E[y^T])] = E_{x,y}[xy^T] - E[x]E[y^T]$"
   ]
  }
 ],
 "metadata": {
  "kernelspec": {
   "display_name": "Python 3 (ipykernel)",
   "language": "python",
   "name": "python3"
  },
  "language_info": {
   "codemirror_mode": {
    "name": "ipython",
    "version": 3
   },
   "file_extension": ".py",
   "mimetype": "text/x-python",
   "name": "python",
   "nbconvert_exporter": "python",
   "pygments_lexer": "ipython3",
   "version": "3.8.12"
  }
 },
 "nbformat": 4,
 "nbformat_minor": 5
}
