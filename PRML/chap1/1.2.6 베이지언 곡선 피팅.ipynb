{
 "cells": [
  {
   "cell_type": "markdown",
   "id": "a89cfea2",
   "metadata": {},
   "source": [
    "# 0\n",
    "- 앞에서 한게 사전 분포를 포함시키면서 베이지안 방식을 쓰긴했다.\n",
    "- 하지만 w에 대해 여전히 점 추정을 하고 있어서 완벽한 베이지언방식이라고 하기엔 무리가 있다.\n",
    "- 따라서 이를 해결하기 위해 모든 w 값에 대해 적분을 시행해야한다. \n",
    "- 이러한 주변화가 베이지안 방법론이다.\n",
    "\n",
    "# 1 베이지안 곡선 피팅\n",
    "목표 : 훈련 집합 x와 t가 주어진 상황에서 새로운 변수 x에 대해 t를 예측하는 것\n",
    "- $p(t|x,x,t)$를 구해보자.\n",
    "- 베이지안 방법은 단지 확률의 합과 곱의 법칙을 계속적으로 적용하는 것(계속 업데이트한다)\n",
    "    - $p(t|x,x,t) = \\int p(t|x,w)p(w|x,t)dw$            (1.68)\n",
    "    - 이를 예측 분포라고 한다.\n",
    "    - $p(w|x,t)$는 매개변수들에 대한 사후 분포이고, 식 1.66(1.2.5)의 오른쪽 변을 정규화함으로써 구할 수 있다.\n",
    "    - 식 1.68의 적분을 시행하면 식 1.69와 같이 가우시안 분포로 주어진다는 것을 알 수 있다.\n",
    "    - $p(t|x,x,t) = \\mathcal{N}(t|m(x), s^2(x))$  (1.69)\n",
    "    - 평균 : $m(x) = \\beta\\phi(x)^TS\\sum_{n=1}^N\\phi(x_n)t_n$ (1.70)\n",
    "    - 분산 : $s^2(x) = \\beta^{-1} + \\phi(x)^TS\\phi(x)$ (1.71)\n",
    "    - 행렬 $S^{-1} = \\alpha I + \\beta\\sum_{n=1}^N\\phi(x_n)\\phi(x_n)^T   (1.72)$\n",
    "    -<img src = \"http://norman3.github.io/prml/images/Figure1.16.png\" width = 300 height = 300>\n",
    "        - 베이지안적 방법을 통해 구한 M=9 다항식 곡선 피팅 문제의 예측 분포\n",
    "        - 빨간선은 예측분포의 평균값\n",
    "        - 빨간 영역은 평균값으로부터 +-1 표준 편차값을 가지는 부분을 표현 한 것이다.\n",
    "        \n",
    "\n",
    "너무 어렵다... 나중에 무슨 말인지 하나하나 다시 봐야될거 같다..."
   ]
  }
 ],
 "metadata": {
  "kernelspec": {
   "display_name": "Python 3 (ipykernel)",
   "language": "python",
   "name": "python3"
  },
  "language_info": {
   "codemirror_mode": {
    "name": "ipython",
    "version": 3
   },
   "file_extension": ".py",
   "mimetype": "text/x-python",
   "name": "python",
   "nbconvert_exporter": "python",
   "pygments_lexer": "ipython3",
   "version": "3.8.12"
  }
 },
 "nbformat": 4,
 "nbformat_minor": 5
}
