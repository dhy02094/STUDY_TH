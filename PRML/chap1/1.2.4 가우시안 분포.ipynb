{
 "cells": [
  {
   "cell_type": "markdown",
   "id": "77b72359",
   "metadata": {},
   "source": [
    "# 가우시안 분포\n",
    "\n",
    "## 0.\n",
    "  \n",
    "  일단 나는 부끄럽지만 남들이 계속 가우시안분포, 가우시안을 이용해서 분석해보자, 가우시안 이러면 아니 그게 뭔데? 근데 물어보면 쪽팔리니까 가만히 있자... 하면서 물어보지도 않고 또 찾아보기에는 할 것도 많은데 언제 공부하냐 하면서 안찾고 있었다... 근데 ... 이거 그냥 정규분포다. 겁 먹지말자... ㅋㅋ 시작하겟다.\n",
    "  \n",
    "## 1. 가우시안 분포\n",
    "- $\\mathcal{N}(x|\\mu, \\sigma^2) = \\frac{1}{(2\\pi\\sigma^2)^{1/2}}$exp$(-\\frac{1}{2\\sigma^2}(x - \\mu)^2)$\n",
    "    - $\\mu$ : 평균 $\\sigma^2$ : 분산 $\\sigma$ : 표준편차 $\\beta = 1/\\sigma^2$ : 정밀도(precison)\n",
    "    - <img src = \"http://norman3.github.io/prml/images/Figure1.13.png\" width = 300 height = 300>\n",
    "- 가우시안 분포는 다음과 같은 성질을 갖고 있다.    \n",
    "    - $\\mathcal{N}(x|\\mu, \\sigma^2) > 0$\n",
    "    - $\\int_{-\\infty}^{\\infty} \\mathcal{N}(x|\\mu, \\sigma^2) dx = 1$ 처럼 정규화\n",
    "        - 위 두개는 가우시안 분포가 올바른 확률밀도의 조건을 만족\n",
    "    - $\\mathbb{E}[x] =  \\int_{-\\infty}^{\\infty} \\mathcal{N}(x|\\mu, \\sigma^2)xdx = \\mu$\n",
    "    - $\\mathbb{E}[x^2] = \\int_{-\\infty}^{\\infty} \\mathcal{N}(x|\\mu, \\sigma^2)x^2dx = \\mu^2 + \\sigma^2$\n",
    "        - $var[x] = \\mathbb{E}[x^2] - \\mathbb{E}[x]^2 = \\sigma^2$ 위 두 개의 식으로 알 수 있다. \n",
    "    - 분포의 최댓값을 최빈값(MODE)라고 하는데, 가우시안분포의 경우 최빈값 = 평균값 \n",
    "    \n",
    "## 2. 연속 변수로 이루어진 D차원 벡터 x에 대한 가우시안 분포\n",
    "- $\\mathcal{N}(\\mathrm{x}|\\mu, \\sum) = \\frac{1}{(2\\pi)^{D/2}}\\frac{1}{|\\sum|^{1/2}}$exp$(-\\frac{1}{2}(\\mathrm{x} - \\mu)^T\\sum^{-1}(\\mathrm{x} - \\mu))$\n",
    "    - D차원 벡터 $\\mu$ : 평균값\n",
    "    - D X D 행렬 $\\sum$ : 공분산\n",
    "    - |$\\sum$| : $\\sum$의 행렬식\n",
    "    \n",
    "- 관측된 데이터 $\\mathrm{x} = (x_1,,,,x_N)^T$ 를 살펴보자\n",
    "- 이 데이터 집합이 발견될 확률은 얼마나 될까?\n",
    "    - 각각의 데이터가 발견되는 것은 독립적으로 추출한다.\n",
    "    - 따라서 데이터는 독립적이고 동일하게 분포해서 다음 확률을 적을 수 있따.\n",
    "        - $p(\\mathrm{x}|\\mu,\\sigma^2) = \\prod_{n=1}^N \\mathcal{N}(x_n|\\mu,\\sigma^2) $\n",
    "        - <img src = \"http://norman3.github.io/prml/images/Figure1.14.png\" width = 300 height = 300>\n",
    "        \n",
    "        \n",
    "- 어떤 관측 데이터가 가우시안 분포를 따른다고 해보자.\n",
    "- 우리는 관측 데이터집합을 얻을 것이고 이를 이용해서 원래의 가우시안 분포를 찾는것이 목표인 문제가 주다.\n",
    "    - 특정가우시안의 평균과 분산값만 안다면 쉽게 구할 수 있다.\n",
    "\n",
    "- 즉 우리는 $p(\\mathrm{x} | \\mu,\\sigma^2)$에서 타당한 $\\mu$와 $\\sigma$를 찾으면 해결된다.\n",
    "    - 이를 파라미터 추정이라고 한다.\n",
    "    - 로그를 취해서 다음과 같이 표현 가능하다.\n",
    "        - $lnp(\\mathrm{x} | \\mu,\\sigma^2) = - \\frac{1}{2\\sigma^2} \\sum_{n=1}^N(x_n - \\mu)^2 - \\frac{N}{2}ln\\sigma^2 - \\frac{N}{2}ln(2\\pi)$\n",
    "    - $\\mu$의 최댓값 \n",
    "        - $\\mu_{ML} = \\frac{1}{N}\\sum_{n=1}^N x_n$ 이는 표본 평균이라고 한다\n",
    "    - $\\sigma^2$의 최댓값\n",
    "        - $ \\sigma_{ML}^2 = \\frac{1}{N}\\sum_{n=1}^N(x_n - \\mu_{ML})^2$ 이를 표본 분산이라고 한다.\n",
    "\n",
    "- 가능도 함수를 가장 크게 만드는 모수 값을 추정하므로 이를 MLE(Maximum likelihood estimation)이라고 한다.\n",
    "    - 이들의 기댓값은 다음과 같다.\n",
    "        - $E[\\mu_{ML}] = \\mu$\n",
    "        - $E[\\sigma_{ML}^2] = (\\frac{N- 1}{N})\\sigma^2$\n",
    "  <img src = \"http://norman3.github.io/prml/images/Figure1.15.png\" width = 300 height = 300>\n",
    "            - 녹색 곡선은 데이터가 만들어진 실제 가우시안 분포\n",
    "            - 빨간 곡선은 세개의 데이터 집합에 대해 최대 가능도 방법을 이용하여 피팅한 가우시안 분포\n",
    "            - 각각의 데이터 집합은 두 개의 데이터 포인트를 포함하고 있고 파란색이다.\n",
    "            - 세 개의 데이터 집합에 대해 평균을 내면 올바른 평균값을 계산한ㄷ.\n",
    "            - 하지만 분산값은 실제가 아니라 표본 평균값을 기준으로 계산하기 때문에 구조적으로 과소평가당한다.\n",
    "            - 이것이 bias, unbias이다. \n",
    "            - 모수 추정 집합의 평균값이 실제 모수 값과 같아지만 unbias 아니면 bias다.\n",
    "        "
   ]
  },
  {
   "cell_type": "code",
   "execution_count": null,
   "id": "b236a8d3",
   "metadata": {},
   "outputs": [],
   "source": []
  },
  {
   "cell_type": "code",
   "execution_count": null,
   "id": "ff031ace",
   "metadata": {},
   "outputs": [],
   "source": []
  },
  {
   "cell_type": "code",
   "execution_count": null,
   "id": "8e0119d8",
   "metadata": {},
   "outputs": [],
   "source": []
  }
 ],
 "metadata": {
  "kernelspec": {
   "display_name": "Python 3 (ipykernel)",
   "language": "python",
   "name": "python3"
  },
  "language_info": {
   "codemirror_mode": {
    "name": "ipython",
    "version": 3
   },
   "file_extension": ".py",
   "mimetype": "text/x-python",
   "name": "python",
   "nbconvert_exporter": "python",
   "pygments_lexer": "ipython3",
   "version": "3.8.12"
  }
 },
 "nbformat": 4,
 "nbformat_minor": 5
}
